{
 "cells": [
  {
   "cell_type": "code",
   "execution_count": 1,
   "metadata": {},
   "outputs": [
    {
     "name": "stderr",
     "output_type": "stream",
     "text": [
      "Using TensorFlow backend.\n"
     ]
    }
   ],
   "source": [
    "import pandas as pd\n",
    "import numpy as np\n",
    "from keras.models import Sequential\n",
    "from keras.layers import Dense\n",
    "from keras.layers import LSTM\n",
    "from datetime import date\n",
    "import statsmodels.api as sm\n",
    "import plotly.graph_objs as go\n",
    "from matplotlib import pyplot\n",
    "from matplotlib import pyplot as plt\n",
    "import plotly.offline as py\n",
    "%matplotlib inline"
   ]
  },
  {
   "cell_type": "code",
   "execution_count": 2,
   "metadata": {},
   "outputs": [],
   "source": [
    "data = pd.read_csv('bitstampUSD_1-min_data_2012-01-01_to_2018-11-11.csv')"
   ]
  },
  {
   "cell_type": "code",
   "execution_count": 3,
   "metadata": {},
   "outputs": [
    {
     "data": {
      "text/plain": [
       "Timestamp                  0\n",
       "Open                 1214307\n",
       "High                 1214307\n",
       "Low                  1214307\n",
       "Close                1214307\n",
       "Volume_(BTC)         1214307\n",
       "Volume_(Currency)    1214307\n",
       "Weighted_Price       1214307\n",
       "dtype: int64"
      ]
     },
     "execution_count": 3,
     "metadata": {},
     "output_type": "execute_result"
    }
   ],
   "source": [
    "data.isnull().sum()"
   ]
  },
  {
   "cell_type": "code",
   "execution_count": 4,
   "metadata": {},
   "outputs": [],
   "source": [
    "data = data.dropna()"
   ]
  },
  {
   "cell_type": "code",
   "execution_count": 5,
   "metadata": {},
   "outputs": [],
   "source": [
    "data['date'] = pd.to_datetime(data['Timestamp'],unit='s').dt.date"
   ]
  },
  {
   "cell_type": "code",
   "execution_count": 6,
   "metadata": {},
   "outputs": [],
   "source": [
    "group = data.groupby(\"date\")"
   ]
  },
  {
   "cell_type": "code",
   "execution_count": 7,
   "metadata": {},
   "outputs": [],
   "source": [
    "Daily_Price = group['Weighted_Price'].mean()"
   ]
  },
  {
   "cell_type": "code",
   "execution_count": 8,
   "metadata": {},
   "outputs": [
    {
     "data": {
      "text/plain": [
       "2504"
      ]
     },
     "execution_count": 8,
     "metadata": {},
     "output_type": "execute_result"
    }
   ],
   "source": [
    "len(Daily_Price)"
   ]
  },
  {
   "cell_type": "code",
   "execution_count": 9,
   "metadata": {},
   "outputs": [],
   "source": [
    "d0 = date(2011,12,31)\n",
    "d1 = date(2017,5,1)\n",
    "delta = d1 - d0\n",
    "days = delta.days + 1"
   ]
  },
  {
   "cell_type": "code",
   "execution_count": 10,
   "metadata": {},
   "outputs": [],
   "source": [
    "data_train = Daily_Price[0 : days]\n",
    "data_test = Daily_Price[days:]"
   ]
  },
  {
   "cell_type": "code",
   "execution_count": 11,
   "metadata": {},
   "outputs": [
    {
     "name": "stdout",
     "output_type": "stream",
     "text": [
      "1949 555\n"
     ]
    }
   ],
   "source": [
    "print(len(data_train), len(data_test))"
   ]
  },
  {
   "cell_type": "code",
   "execution_count": 12,
   "metadata": {},
   "outputs": [],
   "source": [
    "working_data = [data_train, data_test]\n",
    "working_data = pd.concat(working_data)\n",
    "working_data = working_data.reset_index()\n",
    "working_data['date'] = pd.to_datetime(working_data['date'])\n",
    "working_data = working_data.set_index('date')"
   ]
  },
  {
   "cell_type": "code",
   "execution_count": 16,
   "metadata": {},
   "outputs": [
    {
     "data": {
      "text/plain": [
       "{'data': [Scatter({\n",
       "      'line': {'color': 'rgb(244, 146, 65)', 'width': 4},\n",
       "      'mode': 'lines',\n",
       "      'name': 'Trend',\n",
       "      'x': array([   0,    1,    2, ..., 2501, 2502, 2503]),\n",
       "      'y': array([nan, nan, nan, ..., nan, nan, nan])\n",
       "  }), Scatter({\n",
       "      'line': {'color': 'rgb(66, 244, 155)', 'width': 2},\n",
       "      'mode': 'lines',\n",
       "      'name': 'Seasonal',\n",
       "      'x': array([   0,    1,    2, ..., 2501, 2502, 2503]),\n",
       "      'y': array([124.9038962 , 101.83102738, 104.33957414, ..., 101.83102738,\n",
       "                  104.33957414, 107.99358837])\n",
       "  }), Scatter({\n",
       "      'line': {'color': 'rgb(209, 244, 66)', 'width': 2},\n",
       "      'mode': 'lines',\n",
       "      'name': 'Residual',\n",
       "      'x': array([   0,    1,    2, ..., 2501, 2502, 2503]),\n",
       "      'y': array([nan, nan, nan, ..., nan, nan, nan])\n",
       "  }), Scatter({\n",
       "      'line': {'color': 'rgb(66, 134, 244)', 'width': 2},\n",
       "      'mode': 'lines',\n",
       "      'name': 'Observed',\n",
       "      'x': array([   0,    1,    2, ..., 2501, 2502, 2503]),\n",
       "      'y': array([4.47160287e+00, 4.80666667e+00, 5.00000000e+00, ..., 6.44840023e+03,\n",
       "                  6.36511324e+03, 6.35459487e+03])\n",
       "  })],\n",
       " 'layout': {'title': 'Seasonal decomposition',\n",
       "  'xaxis': {'title': 'Time'},\n",
       "  'yaxis': {'title': 'Price, USD'}}}"
      ]
     },
     "metadata": {},
     "output_type": "display_data"
    },
    {
     "data": {
      "image/png": "[encoded data removed]",
      "text/plain": [
       "<Figure size 1080x504 with 2 Axes>"
      ]
     },
     "metadata": {
      "needs_background": "light"
     },
     "output_type": "display_data"
    }
   ],
   "source": [
    "s = sm.tsa.seasonal_decompose(working_data.Weighted_Price.values, freq=100)\n",
    "\n",
    "trace1 = go.Scatter(x = np.arange(0, len(s.trend), 1),y = s.trend,mode = 'lines',name = 'Trend',\n",
    "    line = dict(color = ('rgb(244, 146, 65)'), width = 4))\n",
    "trace2 = go.Scatter(x = np.arange(0, len(s.seasonal), 1),y = s.seasonal,mode = 'lines',name = 'Seasonal',\n",
    "    line = dict(color = ('rgb(66, 244, 155)'), width = 2))\n",
    "\n",
    "trace3 = go.Scatter(x = np.arange(0, len(s.resid), 1),y = s.resid,mode = 'lines',name = 'Residual',\n",
    "    line = dict(color = ('rgb(209, 244, 66)'), width = 2))\n",
    "\n",
    "trace4 = go.Scatter(x = np.arange(0, len(s.observed), 1),y = s.observed,mode = 'lines',name = 'Observed',\n",
    "    line = dict(color = ('rgb(66, 134, 244)'), width = 2))\n",
    "\n",
    "data = [trace1, trace2, trace3, trace4]\n",
    "layout = dict(title = 'Seasonal decomposition', xaxis = dict(title = 'Time'), yaxis = dict(title = 'Price, USD'))\n",
    "fig = dict(data=data, layout=layout)\n",
    "display(fig)\n",
    "plt.figure(figsize=(15,7))\n",
    "ax = plt.subplot(211)\n",
    "sm.graphics.tsa.plot_acf(working_data.Weighted_Price.values.squeeze(), lags=48, ax=ax)\n",
    "ax = plt.subplot(212)\n",
    "sm.graphics.tsa.plot_pacf(working_data.Weighted_Price.values.squeeze(), lags=48, ax=ax)\n",
    "plt.tight_layout()\n",
    "plt.show()"
   ]
  },
  {
   "cell_type": "code",
   "execution_count": null,
   "metadata": {},
   "outputs": [],
   "source": []
  }
 ],
 "metadata": {
  "kernelspec": {
   "display_name": "Python 3",
   "language": "python",
   "name": "python3"
  },
  "language_info": {
   "codemirror_mode": {
    "name": "ipython",
    "version": 3
   },
   "file_extension": ".py",
   "mimetype": "text/x-python",
   "name": "python",
   "nbconvert_exporter": "python",
   "pygments_lexer": "ipython3",
   "version": "3.6.7"
  }
 },
 "nbformat": 4,
 "nbformat_minor": 2
}
