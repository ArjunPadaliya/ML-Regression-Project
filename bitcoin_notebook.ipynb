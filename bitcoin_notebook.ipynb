{
 "cells": [
  {
   "cell_type": "code",
   "execution_count": 1,
   "metadata": {},
   "outputs": [
    {
     "name": "stderr",
     "output_type": "stream",
     "text": [
      "Using TensorFlow backend.\n"
     ]
    },
    {
     "data": {
      "text/html": [
       "<script type=\"text/javascript\">window.PlotlyConfig = {MathJaxConfig: 'local'};</script><script type=\"text/javascript\">if (window.MathJax) {MathJax.Hub.Config({SVG: {font: \"STIX-Web\"}});}</script><script>requirejs.config({paths: { 'plotly': ['https://cdn.plot.ly/plotly-latest.min']},});if(!window._Plotly) {require(['plotly'],function(plotly) {window._Plotly=plotly;});}</script>"
      ],
      "text/vnd.plotly.v1+html": [
       "<script type=\"text/javascript\">window.PlotlyConfig = {MathJaxConfig: 'local'};</script><script type=\"text/javascript\">if (window.MathJax) {MathJax.Hub.Config({SVG: {font: \"STIX-Web\"}});}</script><script>requirejs.config({paths: { 'plotly': ['https://cdn.plot.ly/plotly-latest.min']},});if(!window._Plotly) {require(['plotly'],function(plotly) {window._Plotly=plotly;});}</script>"
      ]
     },
     "metadata": {},
     "output_type": "display_data"
    }
   ],
   "source": [
    "import pandas as pd\n",
    "import numpy as np\n",
    "from keras.models import Sequential\n",
    "from keras.layers import Dense\n",
    "from keras.layers import LSTM\n",
    "from datetime import date\n",
    "import statsmodels.api as sm\n",
    "from matplotlib import pyplot as plt\n",
    "import plotly.offline as py\n",
    "import plotly.graph_objs as go\n",
    "py.init_notebook_mode(connected=True)\n",
    "%matplotlib inline"
   ]
  },
  {
   "cell_type": "code",
   "execution_count": 2,
   "metadata": {},
   "outputs": [],
   "source": [
    "data = pd.read_csv('bitstampUSD_1-min_data_2012-01-01_to_2018-11-11.csv')"
   ]
  },
  {
   "cell_type": "code",
   "execution_count": 3,
   "metadata": {},
   "outputs": [
    {
     "data": {
      "text/plain": [
       "Timestamp                  0\n",
       "Open                 1214307\n",
       "High                 1214307\n",
       "Low                  1214307\n",
       "Close                1214307\n",
       "Volume_(BTC)         1214307\n",
       "Volume_(Currency)    1214307\n",
       "Weighted_Price       1214307\n",
       "dtype: int64"
      ]
     },
     "execution_count": 3,
<<<<<<< HEAD
     "metadata": {},
     "output_type": "execute_result"
    }
   ],
   "source": [
    "data.isnull().sum()"
   ]
  },
  {
   "cell_type": "code",
   "execution_count": 4,
   "metadata": {},
   "outputs": [
    {
     "data": {
      "text/html": [
       "<div>\n",
       "<style scoped>\n",
       "    .dataframe tbody tr th:only-of-type {\n",
       "        vertical-align: middle;\n",
       "    }\n",
       "\n",
       "    .dataframe tbody tr th {\n",
       "        vertical-align: top;\n",
       "    }\n",
       "\n",
       "    .dataframe thead th {\n",
       "        text-align: right;\n",
       "    }\n",
       "</style>\n",
       "<table border=\"1\" class=\"dataframe\">\n",
       "  <thead>\n",
       "    <tr style=\"text-align: right;\">\n",
       "      <th></th>\n",
       "      <th>Timestamp</th>\n",
       "      <th>Open</th>\n",
       "      <th>High</th>\n",
       "      <th>Low</th>\n",
       "      <th>Close</th>\n",
       "      <th>Volume_(BTC)</th>\n",
       "      <th>Volume_(Currency)</th>\n",
       "      <th>Weighted_Price</th>\n",
       "    </tr>\n",
       "  </thead>\n",
       "  <tbody>\n",
       "    <tr>\n",
       "      <th>0</th>\n",
       "      <td>1325317920</td>\n",
       "      <td>4.39</td>\n",
       "      <td>4.39</td>\n",
       "      <td>4.39</td>\n",
       "      <td>4.39</td>\n",
       "      <td>0.455581</td>\n",
       "      <td>2.0</td>\n",
       "      <td>4.39</td>\n",
       "    </tr>\n",
       "    <tr>\n",
       "      <th>1</th>\n",
       "      <td>1325317980</td>\n",
       "      <td>NaN</td>\n",
       "      <td>NaN</td>\n",
       "      <td>NaN</td>\n",
       "      <td>NaN</td>\n",
       "      <td>NaN</td>\n",
       "      <td>NaN</td>\n",
       "      <td>NaN</td>\n",
       "    </tr>\n",
       "    <tr>\n",
       "      <th>2</th>\n",
       "      <td>1325318040</td>\n",
       "      <td>NaN</td>\n",
       "      <td>NaN</td>\n",
       "      <td>NaN</td>\n",
       "      <td>NaN</td>\n",
       "      <td>NaN</td>\n",
       "      <td>NaN</td>\n",
       "      <td>NaN</td>\n",
       "    </tr>\n",
       "    <tr>\n",
       "      <th>3</th>\n",
       "      <td>1325318100</td>\n",
       "      <td>NaN</td>\n",
       "      <td>NaN</td>\n",
       "      <td>NaN</td>\n",
       "      <td>NaN</td>\n",
       "      <td>NaN</td>\n",
       "      <td>NaN</td>\n",
       "      <td>NaN</td>\n",
       "    </tr>\n",
       "    <tr>\n",
       "      <th>4</th>\n",
       "      <td>1325318160</td>\n",
       "      <td>NaN</td>\n",
       "      <td>NaN</td>\n",
       "      <td>NaN</td>\n",
       "      <td>NaN</td>\n",
       "      <td>NaN</td>\n",
       "      <td>NaN</td>\n",
       "      <td>NaN</td>\n",
       "    </tr>\n",
       "  </tbody>\n",
       "</table>\n",
       "</div>"
      ],
      "text/plain": [
       "    Timestamp  Open  High   Low  Close  Volume_(BTC)  Volume_(Currency)  \\\n",
       "0  1325317920  4.39  4.39  4.39   4.39      0.455581                2.0   \n",
       "1  1325317980   NaN   NaN   NaN    NaN           NaN                NaN   \n",
       "2  1325318040   NaN   NaN   NaN    NaN           NaN                NaN   \n",
       "3  1325318100   NaN   NaN   NaN    NaN           NaN                NaN   \n",
       "4  1325318160   NaN   NaN   NaN    NaN           NaN                NaN   \n",
       "\n",
       "   Weighted_Price  \n",
       "0            4.39  \n",
       "1             NaN  \n",
       "2             NaN  \n",
       "3             NaN  \n",
       "4             NaN  "
      ]
     },
     "execution_count": 4,
=======
>>>>>>> 85fe5b32cf4853c1f56cb411d940e2c597b1e8ab
     "metadata": {},
     "output_type": "execute_result"
    }
   ],
   "source": [
    "data.head()"
   ]
  },
  {
   "cell_type": "code",
   "execution_count": 4,
   "metadata": {},
   "outputs": [],
   "source": [
    "data = data.dropna()"
   ]
  },
  {
   "cell_type": "code",
   "execution_count": 5,
   "metadata": {},
   "outputs": [],
   "source": [
    "data['date'] = pd.to_datetime(data['Timestamp'],unit='s').dt.date"
   ]
  },
  {
   "cell_type": "code",
   "execution_count": 6,
   "metadata": {},
   "outputs": [],
   "source": [
    "group = data.groupby(\"date\")"
   ]
  },
  {
   "cell_type": "code",
   "execution_count": 7,
   "metadata": {},
   "outputs": [
    {
     "data": {
      "text/html": [
       "<div>\n",
       "<style scoped>\n",
       "    .dataframe tbody tr th:only-of-type {\n",
       "        vertical-align: middle;\n",
       "    }\n",
       "\n",
       "    .dataframe tbody tr th {\n",
       "        vertical-align: top;\n",
       "    }\n",
       "\n",
       "    .dataframe thead th {\n",
       "        text-align: right;\n",
       "    }\n",
       "</style>\n",
       "<table border=\"1\" class=\"dataframe\">\n",
       "  <thead>\n",
       "    <tr style=\"text-align: right;\">\n",
       "      <th></th>\n",
       "      <th>Timestamp</th>\n",
       "      <th>Open</th>\n",
       "      <th>High</th>\n",
       "      <th>Low</th>\n",
       "      <th>Close</th>\n",
       "      <th>Volume_(BTC)</th>\n",
       "      <th>Volume_(Currency)</th>\n",
       "      <th>Weighted_Price</th>\n",
       "      <th>date</th>\n",
       "    </tr>\n",
       "  </thead>\n",
       "  <tbody>\n",
       "    <tr>\n",
       "      <th>0</th>\n",
       "      <td>1325317920</td>\n",
       "      <td>4.39</td>\n",
       "      <td>4.39</td>\n",
       "      <td>4.39</td>\n",
       "      <td>4.39</td>\n",
       "      <td>0.455581</td>\n",
       "      <td>2.000000</td>\n",
       "      <td>4.390000</td>\n",
       "      <td>2011-12-31</td>\n",
       "    </tr>\n",
       "    <tr>\n",
       "      <th>478</th>\n",
       "      <td>1325346600</td>\n",
       "      <td>4.39</td>\n",
       "      <td>4.39</td>\n",
       "      <td>4.39</td>\n",
       "      <td>4.39</td>\n",
       "      <td>48.000000</td>\n",
       "      <td>210.720000</td>\n",
       "      <td>4.390000</td>\n",
       "      <td>2011-12-31</td>\n",
       "    </tr>\n",
       "    <tr>\n",
       "      <th>547</th>\n",
       "      <td>1325350740</td>\n",
       "      <td>4.50</td>\n",
       "      <td>4.57</td>\n",
       "      <td>4.50</td>\n",
       "      <td>4.57</td>\n",
       "      <td>37.862297</td>\n",
       "      <td>171.380338</td>\n",
       "      <td>4.526411</td>\n",
       "      <td>2011-12-31</td>\n",
       "    </tr>\n",
       "    <tr>\n",
       "      <th>548</th>\n",
       "      <td>1325350800</td>\n",
       "      <td>4.58</td>\n",
       "      <td>4.58</td>\n",
       "      <td>4.58</td>\n",
       "      <td>4.58</td>\n",
       "      <td>9.000000</td>\n",
       "      <td>41.220000</td>\n",
       "      <td>4.580000</td>\n",
       "      <td>2011-12-31</td>\n",
       "    </tr>\n",
       "    <tr>\n",
       "      <th>1224</th>\n",
       "      <td>1325391360</td>\n",
       "      <td>4.58</td>\n",
       "      <td>4.58</td>\n",
       "      <td>4.58</td>\n",
       "      <td>4.58</td>\n",
       "      <td>1.502000</td>\n",
       "      <td>6.879160</td>\n",
       "      <td>4.580000</td>\n",
       "      <td>2012-01-01</td>\n",
       "    </tr>\n",
       "  </tbody>\n",
       "</table>\n",
       "</div>"
      ],
      "text/plain": [
       "       Timestamp  Open  High   Low  Close  Volume_(BTC)  Volume_(Currency)  \\\n",
       "0     1325317920  4.39  4.39  4.39   4.39      0.455581           2.000000   \n",
       "478   1325346600  4.39  4.39  4.39   4.39     48.000000         210.720000   \n",
       "547   1325350740  4.50  4.57  4.50   4.57     37.862297         171.380338   \n",
       "548   1325350800  4.58  4.58  4.58   4.58      9.000000          41.220000   \n",
       "1224  1325391360  4.58  4.58  4.58   4.58      1.502000           6.879160   \n",
       "\n",
       "      Weighted_Price        date  \n",
       "0           4.390000  2011-12-31  \n",
       "478         4.390000  2011-12-31  \n",
       "547         4.526411  2011-12-31  \n",
       "548         4.580000  2011-12-31  \n",
       "1224        4.580000  2012-01-01  "
      ]
     },
     "execution_count": 8,
     "metadata": {},
     "output_type": "execute_result"
    }
   ],
   "source": [
    "data.head()"
   ]
  },
  {
   "cell_type": "code",
   "execution_count": 8,
   "metadata": {},
   "outputs": [
    {
     "data": {
      "text/plain": [
       "date\n",
       "2011-12-31    4.471603\n",
       "2012-01-01    4.806667\n",
       "2012-01-02    5.000000\n",
       "2012-01-03    5.252500\n",
       "2012-01-04    5.208159\n",
       "Name: Weighted_Price, dtype: float64"
      ]
     },
     "execution_count": 8,
     "metadata": {},
     "output_type": "execute_result"
    }
   ],
   "source": [
    "Daily_Price = group['Weighted_Price'].mean()\n",
    "Daily_Price.head()"
   ]
  },
  {
   "cell_type": "code",
   "execution_count": 9,
   "metadata": {},
   "outputs": [
    {
     "data": {
      "text/plain": [
       "2504"
      ]
     },
     "execution_count": 10,
     "metadata": {},
     "output_type": "execute_result"
    }
   ],
   "source": [
    "len(Daily_Price)"
   ]
  },
  {
   "cell_type": "code",
   "execution_count": 11,
   "metadata": {},
   "outputs": [],
   "source": [
    "d0 = date(2011,12,31)\n",
    "d1 = date(2017,5,1)\n",
    "delta = d1 - d0\n",
    "days = delta.days + 1"
   ]
  },
  {
   "cell_type": "code",
<<<<<<< HEAD
   "execution_count": 12,
=======
   "execution_count": 10,
>>>>>>> 85fe5b32cf4853c1f56cb411d940e2c597b1e8ab
   "metadata": {},
   "outputs": [],
   "source": [
    "data_train = Daily_Price[0 : days]\n",
    "data_test = Daily_Price[days:]"
   ]
  },
  {
   "cell_type": "code",
<<<<<<< HEAD
   "execution_count": 13,
=======
   "execution_count": 11,
>>>>>>> 85fe5b32cf4853c1f56cb411d940e2c597b1e8ab
   "metadata": {},
   "outputs": [
    {
     "name": "stdout",
     "output_type": "stream",
     "text": [
      "Train data length:1949\n",
      "Test data length:555\n"
     ]
    }
   ],
   "source": [
    "print(\"Train data length:\" + str(len(data_train)))\n",
    "print(\"Test data length:\" + str(len(data_test)))"
   ]
  },
  {
   "cell_type": "code",
<<<<<<< HEAD
   "execution_count": 14,
=======
   "execution_count": 12,
>>>>>>> 85fe5b32cf4853c1f56cb411d940e2c597b1e8ab
   "metadata": {},
   "outputs": [
    {
     "data": {
      "text/html": [
       "<div>\n",
       "<style scoped>\n",
       "    .dataframe tbody tr th:only-of-type {\n",
       "        vertical-align: middle;\n",
       "    }\n",
       "\n",
       "    .dataframe tbody tr th {\n",
       "        vertical-align: top;\n",
       "    }\n",
       "\n",
       "    .dataframe thead th {\n",
       "        text-align: right;\n",
       "    }\n",
       "</style>\n",
       "<table border=\"1\" class=\"dataframe\">\n",
       "  <thead>\n",
       "    <tr style=\"text-align: right;\">\n",
       "      <th></th>\n",
       "      <th>Weighted_Price</th>\n",
       "    </tr>\n",
       "    <tr>\n",
       "      <th>date</th>\n",
       "      <th></th>\n",
       "    </tr>\n",
       "  </thead>\n",
       "  <tbody>\n",
       "    <tr>\n",
       "      <th>2011-12-31</th>\n",
       "      <td>4.471603</td>\n",
       "    </tr>\n",
       "    <tr>\n",
       "      <th>2012-01-01</th>\n",
       "      <td>4.806667</td>\n",
       "    </tr>\n",
       "    <tr>\n",
       "      <th>2012-01-02</th>\n",
       "      <td>5.000000</td>\n",
       "    </tr>\n",
       "    <tr>\n",
       "      <th>2012-01-03</th>\n",
       "      <td>5.252500</td>\n",
       "    </tr>\n",
       "    <tr>\n",
       "      <th>2012-01-04</th>\n",
       "      <td>5.208159</td>\n",
       "    </tr>\n",
       "  </tbody>\n",
       "</table>\n",
       "</div>"
      ],
      "text/plain": [
       "            Weighted_Price\n",
       "date                      \n",
       "2011-12-31        4.471603\n",
       "2012-01-01        4.806667\n",
       "2012-01-02        5.000000\n",
       "2012-01-03        5.252500\n",
       "2012-01-04        5.208159"
      ]
     },
     "execution_count": 14,
     "metadata": {},
     "output_type": "execute_result"
    }
   ],
   "source": [
    "working_data = [data_train, data_test]\n",
    "working_data = pd.concat(working_data)\n",
    "working_data = working_data.reset_index()\n",
    "working_data['date'] = pd.to_datetime(working_data['date'])\n",
    "working_data = working_data.set_index('date')\n",
    "working_data.head()"
   ]
  },
  {
   "cell_type": "code",
<<<<<<< HEAD
   "execution_count": 23,
=======
   "execution_count": 16,
>>>>>>> 85fe5b32cf4853c1f56cb411d940e2c597b1e8ab
   "metadata": {},
   "outputs": [
    {
     "data": {
      "image/png": "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\n",
      "text/plain": [
       "<Figure size 432x288 with 4 Axes>"
      ]
     },
     "execution_count": 23,
     "metadata": {},
     "output_type": "execute_result"
    },
    {
     "data": {
      "image/png": "iVBORw0KGgoAAAANSUhEUgAAAagAAAEYCAYAAAAJeGK1AAAABHNCSVQICAgIfAhkiAAAAAlwSFlzAAALEgAACxIB0t1+/AAAADl0RVh0U29mdHdhcmUAbWF0cGxvdGxpYiB2ZXJzaW9uIDMuMC4xLCBodHRwOi8vbWF0cGxvdGxpYi5vcmcvDW2N/gAAIABJREFUeJzsnXe4HUXZwH+zp9xze03vlRBCCQkJvUgLRQEFBVRUQBSxIIqKfgoCAgIKUgVBiigdpAgECDW0NALpPaSXm9vvPXV3vj+2nD39nJt7c2+S+T3Pec6e3X1358zOvu/MOzPvCCklCoVCoVD0NrSeToBCoVAoFOlQBkqhUCgUvRJloBQKhULRK1EGSqFQKBS9EmWgFAqFQtErUQZKoVAoFL2SbjNQQoghQoi3hRBLhBCLhBA/s/bXCCHeEEKssL6rrf1CCHGHEGKlEOJzIcTBrmt9xzp/hRDiO679k4QQCyyZO4QQorv+j0KhUCh2Ld3ZgooBv5BS7gscClwmhBgP/AaYIaUcA8ywfgOcAoyxPpcA94Jp0ICrganAFOBq26hZ51zikpvWjf9HoVAoFLuQbjNQUsrNUsp51nYrsAQYBJwBPGKd9ghwprV9BvCoNPkYqBJCDABOBt6QUjZIKRuBN4Bp1rEKKeVH0pxt/KjrWgqFQqHYzfHuipsIIYYDE4FPgH5Sys1gGjEhRF/rtEHAepfYBmtftv0b0uxPd/9LMFtalJaWTho3btzO/SGFQqFQZGTu3Ln1Uso+O3udbjdQQogy4FngcillS5ZuonQHZCf2p+6U8n7gfoDJkyfLOXPm5Eq2QqFQ9ChvLt5KY0eEcyYP6emkFIwQ4ouuuE5WAyWEaCWD0geQUlbkkPdhGqd/Symfs3ZvFUIMsFpPA4Bt1v4NgPtJDAY2WfuPTdr/jrV/cJrzFQqFYrfn4kfNivTuaKC6iqx9UFLKcssI3Y45mGEQpiH4NXB9NllrRN2DwBIp5V9dh14E7JF43wFecO2/wBrNdyjQbLkCpwMnCSGqrcERJwHTrWOtQohDrXtd4LqWQqFQ7BEEI3pPJ6HHyNfFd7KUcqrr971CiE+Am7PIHAF8G1gghJhv7fstcBPwlBDiImAdcI517BXgVGAl0AF8D0BK2SCEuA6YbZ13rZSywdq+FHgYKAZetT4KhUKxx9AUjFDsL+7pZPQI+RooXQjxTeAJTJffeUBWsy6lnEn6fiKA49OcL4HLMlzrn8A/0+yfA0zImnKFQqHYjWkP770tqHyHmZ8PfB3Yan3OsfYpFAqFoovZ0hxytoMRnfdXbGd9Q0cPpqhnyKsFJaVcizlPSaFQKBTdzC3TlznbHZEY335wFgBrbzqtp5LUI+TVghJCjBVCzBBCLLR+HyCE+L/uTZpCoVDsnYyoK3G2l29t7cGU9Cz5uvj+AVwFRAGklJ8D53ZXohQKhWJv5tbXlzvbv39hUQ+mpGfJ10CVSClnJe2LdXViFAqFQqGwyddA1QshRmFN2hVCnA1s7rZUKRQKxV5KVDcyHtvbBkrka6AuA+4DxgkhNgKXAz/stlQpFArFXkpHlom5R9389i5MSc+Tr4H6Qkp5AtAHGCelPFJK2SWxlhQKhUIRpyNi9p5cceLYHk5Jz5OvgVojhLgfc12ntm5Mj0KhUOzV2BNzh9eVMv8PJ5rbtSWM7ltGdYmvJ5O2y8nXQO0DvInp6lsjhLhLCHFk9yVLoVAo9k7aw2YLqsTnoarEz2d/OIk3rjiGqSNqaOyIMmtNQ44r7DnkZaCklEEp5VNSyq9irutUAbzbrSlTKBSKvZCWUBSASqu1VFniw+fR0Kylir5+30foRsZFJvYo8l5RVwhxjBDiHmAeEMAMfaRQKBSKLsQOc5TsztvSEg9/9MPH5gLwzNwNPPzBGiZe+zr//XTjrkvkLiKvUEdCiDXAfOAp4EopZXu3pkqhUCj2Uj5avYNin4dhtaUJ+7e3hp3tNxZvBeCXT3/m7Lv8yfmcOTHtouK7LTlbUEIID/CQlPIsKeXjyjgpFApF92AYkufmbWSf/uX4PInqeWRd3GBpAna0hROOD67e85bkyGmgpJQ6cNwuSItCoVDs1byxxGwZzV/flHLs+rMmcM83D+b4cX3xezW+KGDSbkckxrItu19Mv3z7oD60Ru4dJYQ42P50a8oUCoViL6OpIwLAeVOGphwr8Xs5df8BTB1ZQyhqpBicDY1B1u1INVpr6ts57tZ3OPn299jYFOyehHcT+Rqow4H9gGuBv1ifW7srUQqFQrE3srk5hBBwzVfGZzynT3kRAO8u2w7AD44eyYRBFQAcfcvb3P32SufctnCM4259h60tpjvwqucWdFfSu4V8h5kfl+bzpe5OnEKhUOxNrGvoYEBFgCKvJ+M59nDz1xZtAeCqU/fl+0eNdI7fMn0Z7yzbBsCrCxJDpr63fDvXvLiIWJZ4fwDmAuc9T77rQfUTQjwohHjV+j1eCHFR9yZNoVAo9h4WbWrmuXkbGdGnNOt5x43rm7LvjIMGUeKPG7V5XzSyYmsrVz7zOQBLr5vGb04ZB8DDH651RgGm47P1TYy46hVOvu29zvyNLiVfF9/DwHRgoPV7OWbAWIVCoVDsBI3tER6ftY7T7pgJwKXHjM56fkUgPj/qmR8e5mxf7GpFvb1sO9OtFtbPTxhLwOfhh8eM4sfHmde+9N/zGP6b/3Hza0sTri2ldFbzXba1lTX17QnHwrHMgWy7g3wNVJ2U8inAAJBSxoBdm1KFQqHYA7ngn7OcvqHhtSUcOaYub9lJw6qd7Z8dP4bLTxjDYSNrWbCxmVtfX05NqZ+fnTDGOeeXJ+/DUa7r3/POqgR33serG5i5sp7KYh+agDtmrADMZT5GXPUKZ939Yaf/Z2fIa6Iu0C6EqCW+HtShQHO3pUqhUCj2Eta6WiluY5INIUBKEFZ/FIBHE1x+wliueGq+s8/t9rO549yJPP/pRoJRnVumL2PEVa9wy9kH8OJnm3h/RT0A/754Kle/uIjnP93IoKpi7rIGXize3MKdM1bw1zeXIyWcNL4fJ+zbj/6VAWrL/Hg0kbX/rFDyNVBXAC8Co4QQH2Auu3F2l6VCoVAo9jJWbG3l9cVbaQ3HFycfP6AyL9kPf/MlWoLpFzW/4az92d4aZuHGZv5z8aEpx6tL/Vx45AhWbG113Hl2XxWAVxPsN7CCC48YwdwvGh3jVFPqp6E9wl/eiC9H//rirbye1J/l0QRdRV4GSko5TwhxDGZUcwEsk1JGuywVCoVCsRcx94tGvnZv3F32h9PHM2tNA2P7leUlP6CymEy2LODz8K+Lpua8xph+5Xzy2+O5dfoynp67gRF1pZy8X3+O3acPQghO3b8/fq9GJGbw2EVTOXxULY9+tJYlm1s5amwdU0fUsmRzCy9+tomJQ6toDcUIeDVihuT7N+b1N3Ii8hlOKIQ4B3hNStkqhPg/4GDgeinlvK5Jxq5j8uTJcs6cOT2dDIVCsRfz3Ydm8Y41j+n4cX158LuH9FhapJSs3dFBdYmPqhJ/l1xTCDFXSjl5Z6+T7yCJ31vG6UjgZOAR4N6dvblCoVDsyfzv880cesMMPlhZ7+xrbI/wzrLtjOxTyufXnNSjxgnMfqwRdaVdZpy6knz7oOwRe6cB90opXxBCXNM9SVIoFIrdm8uf+JT/zt/k/P7mA59wy9kH0BqKce3LiwG46pR9E4aMK1LJ10BtFELcB5wA/FkIUUQBa0kpFArF3sKmpmCCcZo6ooZP1jQkDET4wTEjOXF8v55I3m5Fvgbq68A04FYpZZMQYgBwZfclS6FQKHY/dEPy1XvMwQ9/OedADh1Vy6CqYqbe8KYTD+/9Xx3HkJqSnkzmbkO+o/g6hBBrgVOEENOAD6SUr3dryhQKhaIXsWp7G1/saOf3/11Esd/D1BE1TBhUyYDKAAcMruLyJ+fz3nJz4MNpBwzga5MGO7LP/+gIVmxr4+gxdQlzlxTZyXdF3T8A5wDPWbseEkI8LaW8vttSplAoFL2EOWsbOPvvHyXsW7mtLe254wdU8JdzDkzYN7CqmIFVe96Cgt1Nvi6+84CJUsoQgBDiJmAeoAyUQqHYY1nf0MFl/5nH5xvigXP+e9kRvLF4CxMGVvLmkm14NcGTc9YjBPzvJ0cxfmBFD6Z4zyJfA7UWCAAh63cRsKo7EqTYc+mIxPhkTQOHjawl4Ou6cCgKRTpiukEoZlBWFFdzzUEzvsCq7W3MX9fEFzvaKSnyMmVEDQcMqmTWmgY2NgUJxwwWbGhmxtKtRHVzruijF05hyogaAj4PBw2pAuCU/QcAcOSYOvYfVMnwuuyRyBWFkdVACSHuxIy/FwYWCSHesA6dAMzs5rTlhdUn9jfAAzwgpbyph5OkSMP0RVu4/In5BKPmjIXjx/XliNF1bGgM8t6K7YzpW4ZHExT7PHg0wUFDqhhaW0KRV2N7a4Qir0ZliY9BVcX0qwgAZoe0JhLjka1v6GB1fTvhqE5tmR8hBKGoTiiq4/d4KPJp+D0aRT6NYp+HQVXFeDSh+gW6Ed2QbG8Ns3xrK3PWNlBd6qeurAifR+DVNDQN/B4PNaXmPByPJtAEtIZjxHSJEBCOGkR0nXDUIBwzCMd0IjF7O77PPM9gyeYWFm5sJqpLjhhdSzQmWdfQwZaWUELaSv0e2iM6976TWt/uXxHgm1OHcfakwUwYlD0E0ZcPHJj1uKJzZI0kIYT4jrVZDPgwo5nrQBBASvlIdycwG0IID+bSHycCG4DZwHlSysWZZHZlJAkpJVKaFl5KaX2DxNxP0u/k88hyTJoHU64pXfd1X7++LcLGpiDVJT5Ki7wYhsTr0RDmbTAsAa8m8Hk0hACfx1TmuiGJGZKYYRDTrW3dIKrH90V1A92QRK1jMV0SNQyCEZ3ZaxuYvij9+jNCQFWxj9qyInRDOsaksSNzJK3aUj+aJtjeao6K8mjC/AjhGMB8sYNuBiyDVeL3UlPqp7LYR2Wxj+ZgFN2QlBaZhjMSM4gZZv4WeTUCPtPoBXweAl4PtWV+irwa4ZhBid/j5EO8TGROS/K7mHyuzHLM6xH4PebMj3BMJxjVCUYMglGdcNT6HdVpbI+gS8mwmlK8HkEwotPQHmF7WxgpQRM4/69vhblyqyHBMCSGlBjSTKd7W0qc30bCb3O7LRyjI9L9ix8UeTX8Xo0ir4dB1cXs27+cdQ0dNAejlBV5GVAZYGz/cryaYEh1CROHVtOvoojmYJTn5m2ksSPCUWP6sE+/chBQWazmKHWWrookkctA+YA/ARcCX2DOfRoCPAT8tqfj8QkhDgOukVKebP2+CkBKmTESVGDAGDn4e3/r8rSkGBeFw8DKAHXlRdz01QMYP7ACw5DMXttAKGYw1XKZuJFSsmp7Gws2NrOxMcjk4TUUeTUa2iMs3dLKpqYgbeEYQ2tK0ISwDKOBrksGVxezT/8Kyoq8bGwKEvBpeDRBecBHJGZYtW6z9t0ajrG+oQMhBOGoTkdEpy0co6kjQkNHlNZQlKpiH5oQdER0dEPi92pWi8us1YesWrttWNt3gSLOB7s1GvB5KPZrzrZHEzS2RxBCYEhJsc9DdYmfuvIiPMIsx/aKrdtbwwhh/tbsby2+LazWq/t48vlCmLHhRvUpo295EeMHVrC2voO+FUVEYgZSgi4lwYhOY0fEeZ66lJQXefF5NCSSIq+HIq/magFbvy2j5PdoqhXci+gqA5WrD+pmoAwYIaVstW5cAdwK3ELPL1o4CFjv+r0BSImSKIS4BLgEoGbQCH5wzMjkU7oEgfXSmjdFmF8J+4XLJZX2mPXbSrdrv/U7n+tj/hCua1SV+Kgo9lHfGnYUVcxVs7fTpFutIQlEdVOh2y0Un0ezvk3XjNdj7vNq7t/xba+m4fMIakr9CcpD0wRTR9ZmzkchGN23nNF9y1OOHb9v/pMb9x+cX2TorqQ5GDVbn5pGKKrj85r54yZZj5pPKNOxpN+uE9zHoobZopVSEvB58Hl67zz6wdVqDpAiP3IZqNOBsdLVzJJStgghLgWW0vMGKl2VKaX9IqW8H7gfTBfflSeP6+50KfZS3G6h4jRr8XQXRZqHonyHPCkUuwm5irSUaXyAUkpdCNEbHFkbMF2ONoOBTRnOBWDu3LltQohl3Zqq3Y86oD7nWXsXKk9SUXmSisqTVOqAYV1xoVwGarEQ4gIp5aPunUKIb2G2oHqa2cAYIcQIYCNwLnB+DpllXeEb3ZMQQsxReZKIypNUVJ6kovIkFStPhnfFtXIZqMuA54QQFwJzMd1nh2CO6jurKxKwM0gpY0KIHwPTMYeZ/1NKuaiHk6VQKBSKLiCrgZJSbgSmCiG+BOyH2efzqpRyxq5IXD5IKV8BXunpdCgUCoWia8k3WOxbwFvdnJZdxf09nYBeiMqTVFSepKLyJBWVJ6l0WZ7kteS7QqFQKBS7mt47WUKhUCgUezXKQCkUCoWiV6IMlEKhUCh6JcpAKRQKhaJXogyUQqFQKHolykApFAqFoleiDJRCoVAoeiXKQCkUCoWiV6IMlEKhUCh6JcpAKRQKhaJXogyUQqFQKHolykApFAqFoleiDJRCoVAoeiV5LbexJ1FXVyeHDx/e08lQKBSKPZa5c+fWSyn77Ox19joDNXz4cObMmdPTyVAoFIq8Wb29jWtfXszsNQ2cdsAArjtzAkVeT08nKyNCiC+64jp7nYFSKBSK3YlXFmzm8ifnU+TROGafPjw1ZwODq0v46fFjejpp3Y4yUAqFQtELeW/5du56eyWz1jQwaVg1937rYPqWB/jhv+Zy37urOG/KUPqUF/V0MrsVNUhCoVAoehlPzl7HBf+cxaamIL+atg+PXTSVvuUBAH41bR9CMYM731rRw6nsfpSBUigUil7E/PVN/O75hRw1po4ZvziGHx07mmJ/vL9pZJ8yzj54ME/OXk9De6QHU9r9dJuBEkL8UwixTQix0LWvRgjxhhBihfVdbe0XQog7hBArhRCfCyEOdsl8xzp/hRDiO679k4QQCyyZO4QQorv+i0KhUOwKghGdK56cT9/yIu467+CMAyEuPmoE4ZjBgzNX7+IU7lq6swX1MDAtad9vgBlSyjHADOs3wCnAGOtzCXAvmAYNuBqYCkwBrraNmnXOJS655HspFArFbsUD769mdX07t55zIJUlvoznjelXzhkHDeQf761h5ba2XZjCXUu3GSgp5XtAQ9LuM4BHrO1HgDNd+x+VJh8DVUKIAcDJwBtSygYpZSPwBjDNOlYhpfxISimBR13XUigUit2OmG7w70/WcfTYPhw+ui7n+f932ngCPo3fPb8AUw3ueWQ0UEKIimyfTt6vn5RyM4D13dfaPwhY7zpvg7Uv2/4NafZn+i+XCCHmCCHmbN++vZNJVygUiu5jxtJtbGkJ8c2pQ/M6v095EVedui+frGngmbkbcgvshmRrQS0CFlrfjcA6TGPRaO3vStL1H8lO7E+LlPJ+KeVkKeXkPn12enKzQqFQdDmPffwFAyoDHD+ub+6TLb4xeQiTh1VzwytL9sgBExkNlJRyiJRyKPAScJaUskpKWYnpSnuyk/fbarnnsL63Wfs3AENc5w0GNuXYPzjNfoVCodjtWFvfzvsr6jn3kKF4Pfn3vGia4Iav7k9bOMZ3H5rF9EVbiOlGN6Z015JPTkyRUr5o/5BSvgQc18n7vQjYI/G+A7zg2n+BNZrvUKDZcgFOB04SQlRbgyNOAqZbx1qFEIdao/cucF1LoVAodiv+M2sdHk1w7pQhuU9OYmy/cm77xkFsawnzg3/NZcoNMzj65rf56eOfsrUl1A2p3XXkE0miQQjxG+AxTDfatzDdfFkRQjwOHAvUCSE2YI7Guwl4SghxEabL8Bzr9FeAU4GVQAfwPQApZYMQ4jpgtnXetVJKe+DFpZgjBYuBV62PQqFQ7FaEojpPz1nPifv2o19FoFPXOP2AgUzbrz9vL9vOKws2E4kZvL54C++t2M51Z0zgywcO7OJU7xpErtEfQog64I/A0dau94CrpZT13Zy2bmHy5MlSBYtVKBS9hefmbeCKpz7jsYumcuSY3KP38mX19jZ+/tRnfLa+iUuPHcWVJ+2Dpu2a6aJCiLlSysk7e52cLSjLEF22szdSKBQKRSpPzFrPiLpSDh9V26XXHdmnjGd/eBi/f2ER976zineXbefKaftwzJg+u8xQ7Sw5DZQQYjRwBTDcfb6U8qTuS5ZCoVDs+WxpDjFrbQM/P2FstxgNr0fjhrMmcOjIGm59fRnfe2g2JX4P1SV+qkt91JQW8eUDBvDVgwfj6YVGK58+qGeABzH7oPTuTY5CoVDsPby2cDMApx3Qv9vuIYTgjIMGccqEAbyyYDOfb2imqSNCUzDK2h3tXPnM5zw4cw1/OH18XhOEdyX5GChDSnlnt6dEoVAo9jJe/nwz+/QrZ3Tf8m6/l9+rcebEQZw5MR7TQErJKwu2cOOrSzj/gU84akwdk4ZVs++ACiYOqaLI6yFqGMR0SbHPQ0Wxl10Z9jQfA/WCEOIS4HkgbO+UUrZ0W6oUCoViD2dtfTtzvmjk19PG9VgahBCcdsAAjt+3Lw/OXMMzczcwc2U9mcbOlfo9jO5XzlcnDuLMgwZljRfYFeRjoC62vn/v2ieB/OJxKBQKhSKF5+ZtQAg4a2LGKG27jIDPw2XHjeay40YTiuos2NjMoo3NGBJ8HoHXo9EejrGxKcisNQ1c/eIiDhhcycSh1bkvvhPkM4qv8JljCoVCochIJGbw9NwNHDm6jv6VnZv71F0EfB4OGV7DIcNrMp6zbEsrY/uVdXtackaSEEIUCyF+I4Swl8AYLYQ4pdtTplAoFHsoj360ls3NIS4+amRPJ6VT7NO/fJf0ReUT6uif1nlHWb83ATd0W4oUCoViD2bplhZumb6ML43ry9FdODF3TyQfAzVGSnkDEAWQUnaQPpq4QqFQKLKwfGsr33rgEyqKfdz41f136Yi43ZF8DFRECBHAWs5CCDEC2PPiuisUCkU3snBjM+fd/zFCCJ645NBOx93bm8hnFN+1wGvAYCHEI8AxwEXdmiqFQqHYg/h49Q6+/8gcygNe/nXxVEb16f4BBnsCWQ2UtZTFZ5hRxw/HdO1dKaXclk1OoVAoFCavLdzMT5+Yz9CaEh69cAoDq4p7Okm7DVkNlJRSCiFellJOQq23pFAoFHmjG5K/vbmcO95ayUFDqnjou4dQXerv6WTtVuTj4pslhDhYSjmv21OjUCgUuzmhqM6MJdv4+7urWLCxma9PHsy1Z0wg4PP0dNJ2OzIaKCGEV0oZA44Evi+EWAW0Y7r5pJTy4F2URoVCoejVhGM6L8zfxKsLNjN7bSNt4RhDaoq5/RsHccZBA9VovU6SrQU1CzgYOHMXpUWhUCh2K2K6wZNz1nP7myvY3hpmeG0JXz5wIKfu35/DR9X1yiUsdieyGSgBIKVctYvSolAoFLsFMd3gnWXbuWX6MpZtbeWQ4dXc9vWDOGJ0rWotdSHZDFQfIcQVmQ5KKf/aDelRKBSKXomUkvnrm3hh/iZe/nwT9W0RhtQUc+83D2bahP7KMHUD2QyUByhDRY1QKBR7Mau3t/Hf+Zt4cf5G1u7owO/VOH5cX844aBDHjetDkVcNfugushmozVLKa3dZShQKhaKXsLa+nVcXbuGVBZtZsLEZIeCwkbX86NjRnDyhP5XF3bsOksIkZx+UQqFQ7Ok0tkdYtKmFOV808NrCLSzd0grAgYMr+d2p+/LlAwf2umUx9gayGajjd1kqFAqFogvpiMTY0Rahvi1MQ3uEHe0RGtojNNrfHREaO6Lm744ITR1RAISAycOq+f3p45k2oT+DVNSHHiWjgZJSNuzKhHQWIcQ04G+YfWYPSClv6uEkKTLQEYmxals7K7e3smpbO+saOmgORmkLxwj4NEr9XsoDPsoDXioCXqpK/NSUxj9VJT7Ki3yUBbwJw3ellMQMiW59YoYkqhvmJyaJ6Dq6AV6PwKdp+LyCYp+HgM9DkVdTndu7gEjMoD0coz0Soz2s0x6JEYkZSGk+P0OCIaXz0Q3rtyHRpflcpTTnG7WGYrSFY+Z3KEZrOEpLMEZzMGoZozChqJE2HX6vRm2p3ypbPvYdWEF1iY8h1SXsN7CS/QZWqGgPvYh8Ikn0WoQQHuBu4ERgAzBbCPGilHJxz6Zs70VKyY72CCu3tbFqexsrt5mfVdva2NQccs7zaIJBVcVUl/goLfISjOhsbw3THtZpCZlGS8rM9/F7NaSluIws5+VCE1Di9xLweSjxmx/3drHfS7FPo8Tvpdjvodhn749v+70aXk3D6xH4PRpej4ZXE/g8Gj6P+e21vgXmsgCGNBVu8rdMUNQALuVtgES6zokr94zfLnlpXSOiG4RjOqGoQTiqE4oZhKMGoZhOJGY4hl63DYQRv0bqfnsfzr5gVKc9HKMjotMWjtERiRHVd+IhZaDU76EsYFZqKgJeasv8jOlXRm2pn9qyIuvbT02puV1T6qfE71EVkt2I3dpAAVOAlVLK1QBCiCeAM4CCDNSOtjCfrmvCfoWkpRkluJSktU+SckymPZb4QrrPdbZd59v3TbpdwrXj52W+LzLegojEDCK61ZqIGeiWErQVi630DGkqHRuBQAizE9L8FkjMWq1uGAnKyFZW7ZEYDe0RtraEaQ5GnWsV+zyM6lvKlBE1jOpTxui+5mdYbSl+b+bVXgxD0hKKOq6ZhvYIzR1RWsNmrbkjGsMjBB7N/Hg1gUfT8Gjg0TT8HttAaPi8Gpow/3dUl0RiBqGoTjCqE4zodER0gtGYa9vc39QRdZ0TIxjVu0XR9hZ8loH1aAJNE3hE/NvcR+o+55jAI8yKR3nAy4DKACV+L2VFHkqKvJT6PZQWeSn1eykt8lJS5KHIY7ZeNQGaJhCY35qw7038+tZ5fq9GecBHWZFXTYLdC9jdDdQgYL3r9wZgavJJQohLgEsAhg4dmnKRxZtbuPjROd2UxJ7Hb9Xg3S+6RxMIWxEIEMI0SnHjKZMMNI4xMK9DgoIq8XsYUVfKIcNrGGkZolF9ShlYWYzWCUWiaYKqEtMVM6pP1+RDVxDVDcdo2QYtohvEdIOoVRmIGeZ2TI+7Gu2LVFIrAAAgAElEQVRKg5Q4+a1Zee7kP6ZCthUz9m/nGcXl0v5GuK6d+G3eJ67ki7weAj6NgNdDkc/8rRS+orexuxuodG9UShVXSnk/cD/A5MmTU44fNKSKl358pHnBpCvaLQj3Mefbamm4ExKXT3dMOL/d10i+b/w+Ikk+TVrit3Ou53O3HjxCuTS6EDtfKwJqmLFC0d3s7gZqAzDE9XswsCmbwNy5c9uEEMu6NVW7H3VAfU8nopeh8iQVlSepqDxJpQ4Y1hUX2t0N1GxgjLUM/UbgXOD8HDLLpJSTuz1luxFCiDkqTxJReZKKypNUVJ6kYuXJ8K641m5toKSUMSHEj4HpmMPM/ymlXNTDyVIoFApFF7BbGygAKeUrwCs9nQ6FQqFQdC2Zx/nuudzf0wnohag8SUXlSSoqT1JReZJKl+WJSJ6vo1AoFApFb2BvbEEpFAqFYjdAGSiFQqFQ9EqUgVIoFApFr0QZKIVCoVD0SpSBUigUCkWvRBkohUKhUPRKlIFSKBQKRa9EGSiFQqFQ9EqUgVIoFApFr0QZKIVCoVD0SpSBUigUCkWvRBkohUKhUPRKlIFSKBQKRa9kt18PqlDq6urk8OHDezoZCoVCsccyd+7ceilln52+kJSyV3yAIcDbwBJgEfAza/81mMu5z7c+p7pkrgJWAsuAk/O5z6RJk2Qu1je0y20toZznJbN8S4tsC0ULlvtsfaPUdaMgmWhMlws2NBV8r+ZgRK7c1lqw3JbmoNzU1FGw3KptrbKpPVKw3IINTTIS0wuSMQxDzl/XWPC9OsIxuWxLS8Fy21tDct2O9oLl1u1ol/WthZevpZtbZEc4VrDc/HWN0jAKK1/hqC4Xbiy8fDW1R+Tq7W0Fy21q6pBbmoMFy63Y2iqbg50rX9ECy5euG/Kz9YWXr7ZQVC7vRPna2hKUGxoLf+fW1rfJhrZwwXKLNzXLYKSw8mW/c8nlC5gju8Au9CYXXwz4hZRyX+BQ4DIhxHjr2G1SyoOszysA1rFzgf2AacA9QghPVyTkyD+/zSF/erOwxOsGJ972Hj98bG5Bcp+s3sFX7vqAf36wpiC5v7yxnNPvnMnyra0FyZ1738cc/5d3C5IBmHrDDA678a2C5b70l3c5694PCpJZW9/O6XfO5KZXlxYk99gn6zjj7g94d/n2guR+8vinnHTbe4SiekFyh904g6NufrsgGYCjbn6bI/9cmFwwonPy7e/x8yfnFyT31tKtnHH3Bzwxe31Bcn/632JOu2MmGxo7CpL7yt0zOe7WdwqSATjsxreYesOMguVO+Ou7fOuBTwqSWbK5hdPvnMkdM1YUJPeP91fzlbs+YM7ahoLkLn5kDife9h6GUdjae1P+NIMjbir8nTvmlnc48bb3CpLZ0RbmlL+9z2+fX1CQ3Mufb+aMuz/gpc83FySXLwW5+IQQB2c7LqWc19mESCk3A5ut7VYhxBJgUBaRM4AnpJRhYI0QYiUwBfios2nYGVpCMQBmrqwvSO6LBlMBLNlcmKGZ+0UjAPVtYcb2K89bbvHmFsA0qF5P99ZPdOuFXL29vSC5+rYwAJ+uayxIbvEm87+tbyhMqb6/wjRoraEYAV/+dZyo3vnFPoMFGsOmYASAj1bvKEhu1TYz7wutyHyyxlTCTR1RBlfnL/fFDjPvpZQIIQq6Z6HYFYrPNzQXJLe5OWjKbSxMzj5/U3OoIDn7mbVFYlQEfAXJdhb7HcqX5mAUgNkFGl+7XK3e3laQXL4U2gf1lyzHJPClnUiLgxBiODAR+AQ4AvixEOICYA5mK6sR03h97BLbQAaDJoS4BLgEYOjQoV2RxBTsB1zoKymtFY21ggVt+QLlLNrCMapK/J0TzvceltEulIhuABSs4Oy8LFQv2nnYGorSp7yoMOECkZ18YE75KvS/YZevzhmLcMzolFwoalDs7xKHRkZarDwpFMP6S519VztrdltD3W+gIp18Xq3Wu1poObGLs+h0rmSnoCq0lPK4LJ+uMk5lwLPA5VLKFuBeYBRwEGYLyzaS6XIk7dsvpbxfSjlZSjm5T5/s/XZt4USl+vAHa9jYFMyZbtsVIjELyZ0zVuTlMtps1cYksLUlxAPvr85LiX3RYNaMW0MxFm5s5oX5G3PKuGkJxnhr6VY+XJW7xRfVEwv9k7PXsXJb7hrT5pZ4vhmG5O63V9LckVupuGvhzR1R7nlnpdMay4b9nAwJK7e18eTsdTllIG4QW0IxPlq1g7eWbs0p43bXRGIGL8zfyMI8auQ72iPOtpSSB95fzbaW3DXy9Q1BS8ZsOdz11grCsdzla0tz2JHb0NjBwx+syat8rd1hlq+WUJT565v4X4EunJZQlNcXbcmrRp6sVB/7+AvW1ududbvfy5hucNdbK1Le33Ssa4i/qzvawtz37qq83G8bGs37RXWDZVtaeWbuhpwyblqCUd5fsT0vF7S7vEspeW7eBpZY3o9sbHWVJSkl9727ih15tKZsT46U0B6OcffbK1Pe+3Rsao4/gy92tPOvj7/IKVMInfbxCCEmCCG+LoS4wP7sbGKEED5M4/RvKeVzAFLKrVJKXUppAP/AdOOB2WIa4hIfDGza2TS4/dnNHVGueWkxX/97bq/htx+c5Wy/9Nkm/vLGcm57Y3lOudvfNP3gUsLvnl/I9f9bwoIcim5HW5itLWahaw1FOf3Omfzsifk5X7LXFsaVTEsoyoUPz+H8f+T23//hhYXOtm5Ifv3sAk74a+5+rGm3v+9sz13XyC3Tl/HrZz/PKXfVc3E/+N9mrODm15bxvwXZFaRhSN5fYRrbYCTGBQ9+wq+fXUB7DoU1z+VGbA1FOe8fH3Phw3NypvHut1cmyP3sifmcfufMnHJn3/uhs72lJcT1/1vCBf+clUXC5PuPxtP05Oz13Pr6cv7x3uqccnbfpkTyi6c+45qXFrN2R3YX6MamIKGoqZxaQzHOvPsDLvtPbu/9sy6F3RqKcsm/5nJOHu/Oz5741NmO6gb/99+FnHbH+1kkTM66J56X76+o59bXl3PNi4tyyl378mJn+8+vLeXGV5fy7orsRiMU1R1XYmsoxtl//5BfPv1ZzkrCBy6Xf2soxrcfnMV38njet0xf5my3R3SueOozTvlb7jw51ZVvq7a3c+OrS7n0sdzP7qePm89AInnogzXcMn0Z//kkdwXvuXlmxViXkh/9ex6//+9CtrcW5l7MRqcMlBDiauBO63MccDPwlZ1JiDD9OQ8CS6SUf3XtH+A67SzA1pYvAucKIYqEECOAMUDuJ5+D+eubnO2wbha+fFpQNl5NoFm5ujVHzdhdk9UEBKOmMm3O4brY4rquuy+jI0eLbfbauDIupA/kmSTF0xl8Vn+Xu8aVC6+mEbP8MQ05aoHulklHRHf6BBtc+9Nh91vZcvny9rJtnZJzG4eY1YdVSJ+ZVxNOudmWQxG4a8CGIZ105ipf61xpDEbiBj5XjfpjV/9YIXny6sItzrZdoWgvQB7AY/nItxTQP+TVhNN6a8xRTtxKtyOiOy6xXHn52Ya4PumI5O/yfn1xPE8KkWtN41YvZKCLV9OwH3Oufix35S8c1Z3Wa653rhA6Ow/qbOBA4FMp5feEEP2AB3YyLUcA3wYWCCHsoUq/Bc4TQhyE2SJfC/wAQEq5SAjxFLAYcwTgZVLKwkp1DsLRwv25Aa/H8cfmchpE3ApExv24ubwN7s5593Y4qlNWlPmRuj07+TTf090jHxdK+msYKWnIRZFPy9uz7X6JY7p05PJxg7nl8sXdNxMrcHRWumvki3sQR668dFdCooZ0+q9y9VNIMpSvmOFUNNJhJJSvzuVJZ8tXZ/B5tLz7Od15GXO9O4XoiELKl9vQdLZfyS77hTyJIq/mlJNc5ctdCYl28p3LRWcNVFBKaQghYkKICmAbMHJnEiKlnEn6fqVXssj8CfjTztw3G4XUAm3KAvlnaSzB0MQLYTRHgXS/IG65UA45t27Z1QqkM8beTa7URjPkZSjHff2uTHHL6YZ0auXpcPcRdPaF7IwCKfZ78laqCeXLVTZypTdTRSaUowLkppAKkJvOlK8irxavAOXITbfXIqpL7DELuZRxNMM7lysvM5WvXLjT2R7ubPkq/BkUFTCK1fZuQGHvXCF0tg9qjhCiCrNPaC4wjy5wr/UGDh5a5Wy3hQt3ZxV5NadGnUspJxsoW+/kchtEMyieXKOaBlQWp5XL1Wl+2v5xL2shI/PKLWNdHvA6L3Ihc43MPDEzJdfL5n5ZIrrhVHVacrgkfd64sne3aNtzuFUOG1UbP7cApTquf3xKQNCqABWiSDwu45RLOSZXZGzJ3OUrveJJ5z5yM7JPaVq5XOXr2H3iA5cKKV92BaKy2OfkYc53zkh656ztXO5x97sacW03B7On123QIxnyNR0nju/nbBeihwZXm++4VxNOXhRSvqSMt4Ryvaup+suU7OzoynR0ykBJKX8kpWySUv4dOBH4jpTye12Wqh6k3DUMtKWAl8UenhzVpaM4NjRl9/1Gk2ogdWXmNVbXZx8hl6KMLXLNN8pU48nVae7zxJViq0sZ51I8Ay2DGNOl85LYI6EykTw6zh6qvC5HP03yy2I/j1U58iRTy2tFAfOG3OUkV39BVUm8fNmthXxGKFZYxj6qG46SzZWXUSOxtdC3IgDkUU70xGdgsyrHyE3dSC+3OUe/ULGr1t5agLEfYinjiG4471yu/uLkclJRbD6PXPN4kt+d2lJzisaqHHLJz8Bm2Zbs5cvdSnaXr1yGzdYhMUMSsvIknz6hIq9pCiIxA80y/DnLlystkZhB3/L89Fch7MwovkFCiMOBoUCVEOLoLktVD+IuiO7aXK4RcvbLGdENp+bSkqN2lfBC63GXUq5RMIm1OYOBlabi2daaXRFEk+Rscg1zdtc63XmSS5nYBjjqUiC5BmckGm3p5FHOPHErgpikv6WMc8npRvrWaCHPwJ0nBckVoIwTypeVl7lah+4WVEQ3nP6r3HnplpNOK2B7jk5z9zNwP+dcgzkyla9cNXi7PEdj8XcuZ+swydDYlaxCnltUNxhYVZynXPpKYSFy7jzJZWzc5bmQlr0tF9UNp3KRKy9jRqI+sY39tpauG8XXqT4oIcSfgW9gDlCwS5EECouv0QNkcyFIKflgZXwkkluBNAejVJemn9gajOhOwTGVsT2vJsdoKVerIBqLy+UqvHYUCVNOEvDnp3hedQ0zD7r613Ipnpddc2DcebK9NZxx4mFMN5yaesyQBCOJLp9M/Sjuwh3VDcKWksr139yj8aK64SiUXHLvuEbjuQ14Lrkn58RDByXnybDa0nQiSCmZ43p27rLYHo5RmqF/py0cc0a1RfX8lfFq11witzsr13+zo0jYcmVFXtrCsZxyL30Wn+VRiNF+Y3F83pk7L+vbwgyuLkkrE4kZTmsp6mqh5+o33twUr4xFXHK50uie+uF2x+eSe3NJ/L8VYqCemhMfOZtcvvpZla9kDEMmpLMtqeWVaYBLc0fUMTbuvNzRnj2NK7bGW0puw5ZLnxRCZ1tQZwL7SClPlVJ+2frs1DDzXUVTlpc6udC4H3C2EEbuuQ6moTFfkqaOaNaCeN+7q+JyLmX89rLtWfsX7nLNwYnqhlPw73lnVSYRABZujCtxd6F/YlbmOG3J6XDnyZuLM09oXbQpcVKhuza3NIt74wnX5NqIy9jPX9+UtUZ47cvx+S/uVsbjs9Zlbf1OXxT/DxHdcCJ6PPTB2owykOjCcufJy1kmtCa7TNzP4JM1mUMYvbU00YjaebK+IZh1eLQ71py74vTaoi1ZXUXu/x6NGRhWK+Oed1ZmkDBZ4zKI7v/29JzM5St52oI7L99elnlukjsMlvt5gzlhNBOPfLTW2XZXCj9Z05BQaUvm+v8tid8vJp1KwsMfrs3q6nZXeN39Y49+vDbN2SbJ5dWdJ+5KZjLJrjX3M3BXapN56fN4xcLt7Vi+tS1rJeiW6fFYme6ujRfm7/R0VIfOGqjVwK4JKtXFNHZkfqGTXRFuf/YVT2UO0mlfs6zIS1SXCdf56xvLMolRbYUaGlZbQlQ3Emoe72R5OW3/d3nASyRmUN8a/0+b8pyz5VaW2YzvjrbE/HLnyY1Zgrkmz6Fwy139QubJlHaoFTtP3Hn53KeZo2Xs078CMPsCk+UW5zEDH8wKiq0bVte3Zxzem6zI3P/t4Q/XZrx+cvlyP4NfPZN5ArOtJGpK/URjRkKl5+/vZq6U2H2AQ2qKicZkgtxHqzIbRL/VH1Hs89ARjXsHQlEj7xhv7v/2epaKTH2W8vX7/y5MPj1Fzh4lt8nVMrru5SVpZSDe3zXcKV9xuVeyTAYf3bcMMN+95Hc1Vz+Ujfu/LdzYktGwJXte3HJ3v535eWcrX799LnMQWLs896sw3x13OXksS2SIoZanYFBVcYpcV9FZA9UBzBdC3CeEuMP+dGXCuotsA3TtfpnzppgBKtwZPnlYTU650w8YQEQ3aO6IOn0gtl82HUU+jdpSP2P7lRPRJU0dUWos45PN/z6stoQjR9dRWeyjLRwjGNWdmn+2Tvpin4dzD7H+W56KxlbSTp645OyXNi+51rDTlzG0Nr3bxkYIOHRELdGYpKkjQr8Ks/M1W0uoT5mf8QMq6F8RIGrlpa2Msrl9BlUVc/akwXg1kfKCZWrFpvtvNhVZphnYcumewf6DKjPK2X1jJ+/XzyxfwYgzWitbcNsSv4eBlQFG1JUR0Q2aOiJUWuUxW56M6VvG8eP6UhbwJrh/INU4u9FE+v+WjWx5OWFQRWY5axL91yYNcuSqrQEoAyrTu8DAHPkX8GkcOKSKqG7Q1BF1BhZka1UOqAxw8NAqasv8llzEMeTZhoHXlfnT/jfzfunLc7Y8sd+FbHLuZ2APcBo3IHNAafv5fmlcXyIxM08GWX1s2WY0VBb7GFFXyuDqYkfuqDF1PHvp4ZmFCqSzBupF4DrgQ8xh5van16Nlmdti91sU+0wlYyv7ycOqsz4oR87qCwpGdapKfJQVebNOzovpEq9H4PdojqtulDVUN9s8pZgRl7PTePBQM+R0JJZNLj4qzlY0k4eZcplqc3aHuZ0nttwhw6vxZslLe/SSOy9LizwMri7OamiiusSnafi8whmxNsTqh8imQKK6xOcR+Dy2nOEouOxyhiUXz8tDhlc710z/3xLzxF1OSvyZDZSTl65n4PdoHDA4s3FKkPN5rXIiqS0rcv5rZjmJ16Pht86LGpIxVqUiq5yeWr7schLJIGcYEkOSUr4OGV7tKPJ02OlIzstDhlfj0bLJpZav8oCPPuVFWSdOR3XDLF8ejaguiemS4bX5lC8z+r/PoxGK6hgSDrSeW65yWeT1oAlS8jKTXLp3x5bLViFJ0UMRnYDPwz79yjEyJ9EZkGGWL2kNAjGNfDSbPtENvJrA73XrrzImDSsg/H0OOjvM/BHgceKG6T/Wvl5PtpHRzoPym9kyc2U9HtcDyIR9rMQqGJ+ua8Tn0XIqkKgu8WrmeSu3tbGhMUix35twzcxyplK1O7TtQplJTkpJVJdOGu1+jZIi+34ZlLFT6LUEuWK/N4eSS8zL2Wsb8Woafo+WUcnZch7rv+1oj7ByW5vz37LKGXEF8vmGZqK6dPIyu5y07id4z4rll+sZxJLyxO4rKfZ7cip+iJeTD1bWO8YxW4XE/QwMCYs2NePTbLkcStU6b+mWVra3hnOWEzANsF0u7aUicsnZRju5fNnlJHMFKDEv7UCqxX5v1gnryc9gzheNCZW9bHJeK883NgVZXd/mvAORXJVJKy/tgS55lS9XeX5nebycQLbylfjuJJSvbHmS9Aw+Xr3D1EPeHHrIegYBn0YwqrNsayt+r4ZHy62/7P+2aFMLLaFY1kprZ+hsLL5jgRXA3cA9wPLdZZh5tg5N+2Up8ceVtm5IfB4te+FNkmvsiLoUTy6lKhJG15TmoUB0S4F4PcJx1ZTmUKp2pbLIm1gDK/HlelkS/5s7nVlbeUlybeEYfq+WR57Ea+9guqLsFy5bbc422n6v5vTZOHmZ5aU2lbhGSyjmDLW15TL1QcUVQXKeeHMaQ7dcOGYQsVpw2ZVcolx9W8SqAGU3bG5lHP9vuStAuvUMJPGoAI5chmeQrZxImXmul62MbTn7tBJfdmOvJz2D1lAMfx6VQnerEsxyk+sdAFOJm3KaM2E5/q5mKZdWXoZjhlM5Ls1h2JLLiY1ZvnJXZGy5jojp+vflUSm03x0wB3flU8HWDcM5zx5s4svSWu4Mnb3aX4CTpJTHSCmPBk4Gbuu6ZOWPEGKaEGKZEGKlEOI3uc6X5OPOSlTiPo+WozaXKtcSipkFI2sT2aqVuR5qcR6F3lY8bvdhSY5Whl3QvJ7EGk5JUX414+Q8ydVaSCe3rqEDn1dkd3s6hT6eJ5oQOWtzMT1VLt+89CXliS2XyVUUdwUnGfucLajUPDFdk7krMkLEJ1OCGfkgp+JxWkJxuZJ8y5emJRjoXOXLzpNkF1SuZxDNkJdFPi2Hqy5VbntrOHde6obT+rQJ+MztXO+4TxMJ4a+K86gAxSyXohs7LzO9B50uX2neObsyk0+l0J0nESvuYj5dDW45X29oQQE+KaUzPE1KuZweGNVnLfF+N3AKMB4zsOz47FJmCycd9pBQuwDZ+L2CxZtbEibPuXnRmv/R5BohuHJbGz6PyLgqrJSS/y3YTEdEZ+aK+Cg6uzAv3pR+5FkworO6vh2PJljminZgvyxr69NHXLDnXGV6WbZmmFw3z3JnJOdJwOdhc3Mo42CO163h2+6as90anbuuMWMl4fFZ62loj7BoU3w+hz2qyR0Z2k1MN5i3rgndkAlDsu00Z1q7akdbmGBUT1lZ2JbbmGEmvT0qMDlPiv0eQlEj4wRc24VY5Eu8n9+j8amV/nQ8/+lGpEwcqbZ6WxseDT5dlz5PpJS8uWQboZjOG67I2PacuaVb0pevtnCMjU1BvJpIiAARj+iRfgj3KmuIc7Kxt/Mo0wgve72o5Lz0eTTW1LdnHKjymhUB3T0heEd7BK9Hyzqk+um5G2gKRhOWWbGVcKZlbiIxw5k24V7R2E5zplF8W5pDGDK1Umjn5eYMkf0/t8p5uvLVHIxmHAj19lLTFZgcQ9Lv0Zi3rilj3+8zczcQihoJ0wS2NIfQhGD++vR5aS9vE9WNhKkVXb1K987E4ntQCHGs9XmAnhkkMQVYKaVcLaWMAE9gLgWflS+nWbenqSPCgzPXAKmZvNFSDOmGVW9tCbHcmrD2WdLS02t3dLC6vp330ixQZg+93dwcSpywa9WCnp23IeXl1A3J7/5rDhd9zbVEAeBM8vzt86nDSUNRnZNuey/h+o6c5Q44+fbUOdYtoagz/yN5dVTbWP/8ydTh99tbw05fQnJ0i0/XNdHUEeXJ2alzY5ZsbnGUtHsOTDCio1svRPLSAVJK7nzLnJ+TvBy67eq47c3UdbkiMcNZhyl5cTw7T771YOpaWe3hGD/6t7m+TnKe2M/gvPs/TpFrbI/w+Kx1VpoTj620FNzfXPOWbLY0h5zhwu7lLDwewdaWMEs2tzD3i9RFAZ+11ulZvb09IVSOXTF47OPU+WEx3eAX1nSK5KkH9n/7+ZOfpdwrGNH5qrU2U3L92c7LY259O0WuORjlr9aaacl5ac+P+u1zqUPNt7WGmGUZtnVJYbqWbG5ha0s4YdKwjW0MOyI689alLoPx+uKtKYv7GYbk5tfM936Gq/Lj/m/p9EI4pvPVez4AUqdq2Hn5tXtT18pqDUW50ppykJwndsvo4kdS1yvb0RZ2KsrJlcbPNzQRiRn84/3VKXLrGzqcaQTuqS26lDQHo8xb15RSWZZS8uhHa4HEuZXmsZRb7BSdNVCXAouAnwI/s7Z/2FWJKoBBgFvTZVz23c3GpmBCDQrgoGvfcLaTO/pCVj/PgzPXJNSOQ1GdqTfMcH5nin6dvCDdp+sa+cG/0ttzt9L40q2JiwI+OHO1s0BYsqul0jWc/cZXEueBXPbv+IJlyZGG3cPg30iar3L4jW8528lRrO1a56sLt6TMvTrkT28625miI/wmaV7G+oaOjAuyuV09R/45UdG9+NmmtIodEp+je1E8gGteWuTUipNfqkpXvLzkRdu+fFe8clOa1Edg13gXbGxOaAECTLwuc/myJ2LeMSNxldzWUJRDb0xfvtxupWRF9+HKen75dKohSSZ5gcW73l7pTFxOdgm5y9ftSQb/wodnO9vJgUnt8iUlvJ+0KOBB177ubCf3jdruxWfnbUiYe2UYkil/iudJpmXlf/J44vNesbU14+KJbjeWu+yCGTHkAavimoy7jyi5YvjrZz5nk9UC1ZMKmDsvn/80cVVeuyIJ8WDLyXy4akeKV2DS9fF0FyX1A9kVlBtfXZqgX+rbwhx1c/x98mYoX6cmLR751tJtXPPSYtLR2Sj2mejsKL6wlPKvUsqvAhcBM6SUXT9LKzd5LfsuhLhECDFHCOFUPdyTAJNj0VUUJxYMd2yyma6X7IOkWmamECSQ6OJI13qwcRuejU3BhH6AG16J19SSC6HbtXKfa6VV3ZAJNb/kVpk7eKl71dbmjmiCMU42NO5amluJJy9L3T9Lnrhrv8kr5trBXiF1sILbxfG3N9MbJ0gsCC/M3+S0HqSUCWnOpkDciicY0RMCrcaSWqPuPoWbXLXqZANeVZIYMssd9sntnkqOpOCe35NcQXFHlHjsk8yTK91JTnZb3+7Ky+Sh4e4Kivu8qG4ktFyTDZQ7L3/qMhoN7ZGEikGyMnZXpF50RSb4NMnl1DfLvCC3Cy1bdAN3+TJkYtm+KctkdPfSHu7yZBiS/7rulxxh3f3OuVuk7eFYglvV70k0vu68da/onNyKrClLzBN3xcYd4SU5Esyg6vhqB8nlyz15+MEMBjud3M7S2VF87wghKoQQNcB84CEhxF9zyXUDeS37LqW8X0o5WUo52d7nftpPz04AACAASURBVFB/fi0x2sPk4fFJuRUBL+tdfRE/dC2ffFFSU/uqU8c52ye5wuUD3OpawvmJJAN1+zcOit87aULwLGsYefLscp+mcZxrmYIhSTHL7Hkos9Ykun+SlX2miZcPzkx0ByS3oNwR0N2hl36ctDT4OZPjj+fAIVUJx37yePzcZEXw929NcraPcf1PcC0zbciEeHMA3ztiuLM9fkDiRE+7ny25zyASi0enBnPRyXQ8nxTJIlkZr3GF2Hnf1a/4x5cSI2d8aVxfZ7t/RSChhXD+P+JuxZ8mtQKuP3OCs+1eAgUSwxC9siDR/XvtGfs52xOHJj4D+z1IFyHCPZ+lb3mi0rNryu7+U0gtX+7ruvt+3QoWUsuv2+3tXqL9B/9KLF/fPyq+DN1hI2sTjv3f8/FK6F1J93vkwinO9uGjE+Vs93soqqeE+jl70mBne0zfxMmvdiUhOXJJRDcS1oUSGcIF2C5gm2R3/FpX+XKXxV89m9haPt1VNkbWlSb0bX73obg3J9mLces5BzrbJ47vn3DsoZlrne0Pk6KQXHnyPs72fgMzT67uDJ1dsLBSStkihLgYeEhKebUQInOslu5jNjDGWvJ9I3AucH6hF0mpLfq9zPz1cUhp1nb2v+b1tHITBlU4PtiRfUqpCPh4/edHUx7wUl3iZ9zvX3PO9XjSF8ofHzeaMycOYnTfMvqUF9GnrCjhhbQLaXIn8/0XTGbSsGpW17eZ6+FEU2s8xX5PSsDH7x81kstPGMuOtjBlAS+PfZS+tp3cqhjTr4yPrzqecEynqtif0uy3GVxd4ixxIYRZe3vrF8fg92rUlhax7x/ieeJW8JXFPkcZfOXAgUwaVs3LPzmSPuVF1JT6ue/duMG0X/bkdWfu+ebBTNuvP187eDC1ZX4nKodNUzBC/8pASrTl3522L4OqitncHKKsyJsSF88ObpvcOf2lcX2Z838n0BqKUVnsS3Ej2iS3Pv1ejfd/dRwA1aV+Jlw9Pa3c6L5ljivnwMGV9K0I8NrlR1FV7Ke61JdQS7dHUiX3K/3mlHF8+9BhTBxSTZ/yIvqWFyUoJnvdq+Q8+du5B7HfwErWNXRQHvAmhNMC6AjrVJZoKdG1v3noUL53xHAa2iOUB3wphsgm+W0YWBXgo6u+RDQmqSzxceSf30orN7pvqWP0qkt8+Dwab15xDMV+D7Wlie+cuzbvnn93/tShHDO2Dy//5Ej6WuXL3Sq0GxxNSYOpHvruIRw1po4LjxhBdakvZRh4kxVQOrnf9YoTx3LDWRPYZkVTmb4osQJhk1zhmTqihlm/O97M62If33W5Ut3UliZWHjRN8O6Vx6IJQU2pn/1c5cs9qGRQVbETRumI0bWMqCvllZ8eRW2Zn+oSf4LBtHVkcv/Wn86awPlTzPysLfNn9Zh0hs72QXmFEAOArwMvd2F6CkJKGQN+DEwHlgBPSSkzB3rLgDtg5TmTBqNpgsHVJQypKaE84OOKE8c6x90LzrnDxVx/hlm7HduvnAGVxQR8Ho531ZTtMCzJD/hHx40CYMKgSvpVBNCShrLaAWSTF4s7bFQtfq/GuP4VDKgspi6phhvKIDewqpjKYh8j+5TRtzyQUlOycS8VMmlYNUVeD/0rAwyrLaWyxMdlx412jruHtboDuto1/pF9yhhcXUKx38M3XC0qd166XU2/PmVcQp74PBpj+8XDKtnGM7lVeer+A9A0wYRBlQyoLE6otZp5YqSVG9uvnNIiL6P7ltG/MuBE5bCxFZt7sEFViY/ygI+6siJG1JVSU+rnW4cOIx3uZ3DRkSMAGFJjlq+yIi8/OnaUc3yyq9Xibt3+0Spf4/pX0L8yQJHXwxGumr9tBNuSjOhFR45ACMH+gyvpXxlIiaRiV2ySg7ZOGlZDwOdxyvOQmuKE46EMS370LQ9QVeJnZB+zwnX6AYktPRu33HH79MHr0RhQWczQ2hIqi338/IT4O+duvbnDCl1r5cnovmUMqjLfua8cONA5PrTGbJVJKZ2At4DzPk8YZBp9r0dLUKx2KzD5vx03ri9ej8b4geY7lzwMPNM7N6KulPKAj1F9yuhXEeDwUXUJx2Wa8jystoQSv5e+5QGG15VSXernQpd3wI1bzv5vw2pLGVJTQmmRlwuPGOEcnzIi7qFxG8Srv2y2sscPrKBfRQC/V0toQdtdCMn/7fwpQxEi/s7lu9pzvnTWQF2LaRRWSilnCyFGYk7c3eVIKV+RUo6VUo6yloDPyoRBlZy2/wDqysza9ZbmEI0dEccvfGqaF+qnx49hybXTGNuvzOkb2dDYQUsw5vjYR/ZJjUv34HcP4fNrTkIIs39CN6QTot5WnulC46y64VSevfQwwFSqHZFYwkgzt2K3KSvysvam0xx3Tihqxgtz93+cP3Voitz+gytZdcOpnDdlKB5NIKVkW0uI+raw0y9gx/Zyc/7UoSy9bhpThtcwqq8ZnmljU5DmYNTJy3TxC/989gEs/OPJTu1XSsm6HR20R3Rn4qP9bNy8/vNjePuXx1r/TScU1R1XnRDxhdrcCCFYe9Np3HHeREeuJRRNCKJ5YpIrFkzjsebGU7nUMhx2kNRtLSFHKf3g6FEpcifv15/l15/CCfv2c2KZbW4O0tQRcSooJ+yber9fTRvH4mtPZnhtidM/taGxg5ZQ1HkGQ6qLU+T+ffGhfPaHkwCzIhPVDWehRVuhpFtiYe1Np/Hvi6c6edIejvGFy6WW7AYEs99s7U2n8VvLjR2K6jS2R9ji6jOxja+bycNrWPmnU/jawYNdUxpC7GiLOHELv+Zym9lceOQIll43jQMHVzLEMjQbGjsSyteENPEL7zhvIguuOYlSvwchzBblqu3txAzpPLvqktTy9fFvj+fVnx1l/TeDUDSxv3Fwmvz3ezXW3nQat5x9gJMnzcHE8uU2mDaj+5ax+oZTnfwKWwGA3fEqv3f48BS5Mw4axLLrp3HUmDpn9eJN1jtnl68jx9SlyP3hy+NZ9MeTGVAZoLTIi5QyXr6s+/VPE7/w2UsPZ9bvjnfSGIkZToveowmKvFqXG6RkOuXik1I+DTzt+r0a+FpXJao7EZiDGUJRgx1tYWeU1NFj+/DI9w7JmOGmC6GIUFRn+qItzii8Hxwzkt9MG5dRriLgo7LYRzCqc93Li51o1zeffQBnTsw84NBeEC0Y1Tnjrg9YYRWM6ZcfzT5pDJSNrRhDUd0ZmejVBCv+dErGNHo0waCqALohCUUNplgjE/cfVMmLPz4io1zA56FPeRFLt4SZv76JM+82h9V+ffJg/vy1AzLKlRV5qSrxE4oZ3Pfeaqf/6Zcn78N3Dx+eUc4eJBCM6nz/0TlOP8/j3z+UQ5P6H9zYyiUY1Zl47RuOT/6zq09K6MR3I4Rw5NyjNQdVFTPz18dlTKPfq9GvoohP1+lsbApyxE2mq+rE8f24/9uTMsqV+L3UlPoJRXX+++lGLreG7//0+DH8/IQxGeUqS3wU+zwEozq/e36Bs47QHedO5JT907deIF6+QjFzCoLt6nn3ymMzrmcFOOszBaM6x9zyDmBGVFj4x5MzptHr0RhYFSAY1QlG4nk5eVg1T//wsJzla1NTiI9W7eC8f5jD97996DCuPWO/jHLl1jsXihrc/uZy7rCmIfz+9PGcN2VIRjk7+nswqvPNBz5xBqw8/6PDmTg0c3w5d54c+Md4d8DS66ZljJ2nacJ5BuGo4Ywe/P/2zjy+qupa/N91b27mmYQQCJAwyyCzIiogUkBr1drap20dWp/+2qq12vZVrba++t7TVztrq7XWaltF/dVa66x1QJwQUARBZpCZECAkIXOy3x/n3Jtz53NvQhLI+n4++eTcfc+6Z5919tlrD2uvPbw4i9U3zI+ax7QULyW56WyurGNTZR3zfmF5+p5zYil3Xzw5qlxWml2+mttY9P6OgPPPdWeO5FtzhkeVK85OwyNWb/76J1bynL3m6Q+XTmXumPDGVleT7IaF6Vjee+OAgOk1xny9i/J1VEn3WQEfnc4P+Rm+uK2BdJ+HqrpW3nF47+VnpMaXS/HS2NLGC47Ja6cnTzQZsCrHjQ6X0oJ4cr4OOee14t+bJedcrOdGLs3nobGlPbC40JKLr5O0FI+tkw7vvYI4cmmBcfD2ICeESC1iJ35dNrW0BYxTikcCrcd4cs51LG51abXAO56bu/JlyS12rJtzWy4bW9qDNrkL9RSMJAOWLp3bObiVcw4/unne6T4r5FHi5ctLY2sby7d1OPsk8gz+6VgPVRBHLs3XMc/i9KaMW75sOec8cIbPGzOwq1Nu9+Fg/bt63q3tQdvGu9ZJaxuvOjZRjCcnIgFdPudYkBuvnHQVyQ7x/QUYgBXiaDGW91z0Xeh6GRk+L63tJsi93D9eHQv/g3Kuy3EnZ1UgTq+cWK1U/7Ug2N3W55WIQ1mR5JwbMw52kcc0W865ENaNXLrPS1NrW9BaEjc6saIuBOsy3vVErGGFppbgebxBEYZfgvPYURk7rxUrsr0lF66ToXG2CgGrfDW2tgeN17suX63JlC9v2NxmvHxmRGjI5KanxNwuBDqMttNpJ3R+KhL+xoVTl0MKY78D/us1tbQnqZP2hMqXNWRFWPmKNPwVei0IdkBwW04geN8mV/dmN3idS0YSq4c6dDLUzTOwy6UTN9frCpL14hthjLlQRM4zxjwsIo9izUkdE/gL1FWOxbLTyuOHiE/3edm0vy6oRzPdpdyLa/YGueBWFMUuGP4X+pevdCyKbGkzLipVS865ENg/dBFTzr6eUyeTB4fPRYTLeamqa+Z2h+fh9PLoe2c55ZZuORjkaTUxzrYTYOnyTyGbAoa6wEeSAQLDZhAe5yyyXLhOxg10k0crOOu3HAukp7nRic/DJ3tqg1bnu9Klzxu2zsc/fBRLBuAOx9q6msZWVz0aCNZJeZzGlvN6Tjk32zKk+6yo487F2O504uHNDfuDylc8F2h/A+i+xcFLLOL3hKzvnc87Xq/LKedcfxhv6xW/XH1zGzc80eFe7qp82e+c02i7egYpHp5YFrygOF5DuatItgflb55Xi8h4IA8o75IcdQPpEVafn1Aa33/fP0zhpDgn/oNK93mjRsaOhseehAyqwF0YjEgV7+xRxRHODJGLoJMTy1xcLzW8CJUXuetBhS7qcxPHKyNEl27C+0fSySw3Ookg565SDZeLNW/olAuNx5cXZ0jXL5foAkl/A8gpN2d0cjqJNDHvRs7NmplIcm569pHKl5sJ/YwQXYau/3Kbx9C1e27lYs11BeQivKsjY2we6ic91RsWgDdaJI5Qua5egOuWZHtQ94tIAXAr1uaF2cCPuixXR5nQgvH2jXNjRoGIJvfhrZ9xXej99M9JY8kPznCXz1RvwBX0ytMruPGsE1zJOLn74slRXX2j5RHgte/OjuiZGE/u/R+eGRa2xo3c2p8siCsDwfc374QS7v3qlIRkAP7z3HFcEsUl3EloQ+bv35oZ5oLu5nrv3Dg3bE1WRLkQnXz04/lxZSy5DsM+vDiLF66Lv/ONiAScKwC+PXcE1zlcu6NeK+Te/nDpNOad0D/K2dHllvzHGa4NjZPlt8yLGlIsSC5El+tuXxhXxi93yG5/XzB5ED+1PfQSudadF0zg3yJ4voYS2pB5/tunM9aF0Q6Ve++mM8lJj9+QCc3n6tvclq8OuclD8nn8qlNcyXUFyXrxPWAfLgaGxTq3NxIaJXhQnOGQSHITB+dT4KLSgY6hIoBrzxzpqgIHa5sJP185eairFzPTF/xIzxo/wJ0RDdGJG+NkyXVcL9XroX+Ou4V6zut9c87wmDvROnH2mK44rSKiG3UooWGhvmivdYtHaDlxY5wiycUbboskd8bo4qgehqE4y9PVZ4yIuYOtE2ex+OoMl+Ur5N7OHNM/qfLlxjiFypXkprkeWnKWy+8vGB13mM6Pc0H9ZTPL3fXqQ+7t/MmDXOkkVJdujFMkuXhzZJHkLpgyyJVRg+BABt+YPdx1+eoKkg11VGJHM3/B/jxWRK7o2qwdPZwtgj9dPt21nNMD6a9XnBTjzGCcMdW+GmEtUjT8q/SHFWVRHmfOyo/zZblwapnr8PfOwKf/+4UJrvPoXOD54ndOdy3n3Bbj+/NHxzgzGP/8X4pHOGV4dNdyJ87KYvao4qgBbENx6uR78+P3LvykOLY0WXTlDNdyzvBb910yNcaZwThj4V0wJXxNUTT8C83HlubS32UEAGcld+kpQ10ZegjW5a8vmhTjzGCczhj/uPpU13LOaObOhdDx2HHQclgozEp1NaQOwRX4WeMHuDaGTl3e8tn4oyN+nIuOn05AJ8u2dXgm3vXFiTHODMa5pcuCcZEX9h8tkjWFD2E5RfhXoW0AvtMVGeoOnI0bty05ICh4qtvWR/i1E1/YNqok/vyFH+fLMsHFhKsf58vitvcEwaF13AyT+nGGyHFbyTmJ52QSjUiLUKPhNPaJPAPnKH+kBZ7RcMaqc9vL7grGD3IfP83Z000k7pqzUZjIs3NGx052Yj6Zd25YkuXLrVGD4PI1MoHy5ZxGKs13/845jb2b3nIo8ZyRjgbJGqgiY8wTQDsEQg5Fjjray0lE6T3xgAA8ST6l0O0gYuFs9SUi5zQuoUMPsejsAnRPkj/gxnvPj/N+kn32icjFW5cVj2R1mogunRWb254oBOctETlnRG83w7ldRbLlK5F7cxr77LQE3h3HcULlK84SgniEDpV3B8le8YiI9MNuLIrIDCDydpS9EGfrNCuBguFmovto4E3SQiXysjh3/UzWaCfSUnU77xeN0F1K3cu512V6UDlJwNg7XuRE5EpcziVEv25yva5kWtOQ2L05K7fuqFTTfZ2rTJPVSbINoMQMW4dcItfrbCDXZN+5zpDsU7wBy3tvuIi8DfwZuDbZTIjIXSKyTkRWichTIpJvp5eLSIOIrLT/7nPITBWR1SKySUR+IwnUjjOGdawZSKS34A9imih//rr7+Son/hh4viRflkQqglLHWqnsBCqFS06J7w0XiYe+5n7uz8mt54wFEt9a2m8QQ7ckj4Unyd6CM95eIhPK/oDDiXKf7cmYaAXij0OYbM8kkR7fCIcbdCLl8psJzB85SdbT7DvzRgKJ69JvKBIpX85Ri0R04ozvl0ij0B+TMlF+bm/DkZLsUE4nSOiKIjJdRAYYYz4AZgM3A03Ay1h7MyXLK8B4Y8yJWPNZNzm+22yMmWT/OXftvRe4Chhp/7nzIyX4oSYy/5HsMI9b75xQpthrbhLdRflkO2KxSVjSIpFeZbJzJfEiaURj0mBrXi1Rk+1f95ToltT+ln8iOklmTg3crXmKxAQX69UicXJF/MWdkfCvGUzEsDnfuUSGgt06HIQywsW6oEhMTFKXc21X+/Yk9zxPpG5JtHHmx82azUgkMm/b1SRa4/4emGcfzwR+iNVzmgTcD3wxmUwYY5wbLr0X73fsrT5yjTHv2p//DJwPvOD2mv/z+Qlh27674YrTKugXIdp2LPplpTJ3TH++NM29hxVYmx4uGpLPVbMS8+T/8efGcfNTqxOasAW458uTeXrl7oSNzvXzRgWFeXGDz+vhvEkDOXV4/EWeTsYNzOOkikK+l4DnH8A3Zw9n7e7DLByfmBfSA5dN4943Nic8QX/b58ayfl9d/BNDuGTGUFdhcpwMzEvn9JFFXB4hAnYszp88iGdW7Um4F3znBRP4z2fWJGwEfvGliby6rjJhp4WrzxiON0GZrLQUzp4wgPlRtpOJxkkVhUwbWsB3EyxfN3xmFDsP1jNrZPwFuk7+eNk0Hn73U3ITdLq6+ewx7K5ujH9iCP82bTDjEnCKASus0SnD+iXdm+0MYhKw+CLykTFmon38W2C/MeY2+/NKY4x7/9Ho13gGeNwY81cRKQfWYPWqaoBbjDFLRGQacKcxZp4tczrwA2PMOVF+8yqs3hZDhgyZ+umn0bfEVhRFUTqHiKxw7mCeLIn2oLwikmJ77Z2JXem7+S0R+RdWgNlQfmiMedo+54dAK/CI/d0eYIgx5oCITAX+ISLjiDzCE9XSGmPux+rhISK1IrI+2rl9lCKgKu5ZfQvVSTiqk3BUJ+EUAclNToeQqIFaBCwWkSqgAVgCICIjiOPF5+/tRENELgPOAc40drfOGNOENceFMWaFiGwGRmHNdznHy8qA4GiZ0VnfFZb9eEJElqtOglGdhKM6CUd1Eo6tk/Ku+K2EDJQx5r9F5FWgFHjZdIwPeuicF99C4AfAbGNMvSO9GDhojGmzd+0dCWwxxhy0e0IzgKXApcDdyV5fURRF6X0k7JZmjHkvQtqGSOcmwD1AGvCKPYH6nu2xNwv4iYj4FwJ/wxjj37nsm1gRLTKwnCNcO0goiqIovZ+eCY0QgjFmRJT0J4Eno3y3HEhm4cj9Scgc76hOwlGdhKM6CUd1Ek6X6SQhLz5FURRF6S66f2mwoiiKorhADZSiKIrSK1EDpSiKovRK1EApiqIovRI1UIqiKEqvRA2UoiiK0itRA6UoiqL0StRAKYqiKL0SNVCKoihKr0QNlKIoitIrUQOlKIqi9ErUQCmKoii9EjVQiqIoSq+kV2y30Z0UFRWZ8vLyns6GoijKccuKFSuqjDHFnf2dPmegysvLWb58eU9nQ1EUJSZLNu7ncEML55w4sKezkjAi8mlX/E6fM1CKoijHApf88X2AY9JAdRU6B6UoiqL0SpLqQYlILRBpK14BjDEmt1O5UhRFUQCob24lM7VvDnYlddfGmJyuzoiiKIoSTl2jGqhOISL9gXT/Z2PM9q74XUVRlL5OU2t7T2ehx+jUHJSInCsiG4GtwGJgG/CCC7ltIrJaRFaKyHI7rVBEXhGRjfb/AjtdROQ3IrJJRFaJyBTH71xmn79RRC7rzL0oiqL0Rprb1EAly+3ADGCDMaYCOBN426XsGcaYScaYafbnG4FXjTEjgVftzwBnASPtv6uAe8EyaMCPgZOBk4Af+42aoijKsYwxHVP8zdqDSpoWY8wBwCMiHmPM68CkJH/rPOBh+/hh4HxH+p+NxXtAvoiUAguAV4wxB40xh4BXgIVJ34miKEovYdm2Q4HjvmygOjsHVS0i2cCbwCMiUgm0upAzwMsiYoDfG2PuB0qMMXsAjDF77HktgEHADofsTjstWnoYInIVVu+LIUOGuL03RVGUHuFnL60PHOsQX/KcBzQA1wMvApuBz7mQO9UYMwVr+O5qEZkV41yJkGZipIcnGnO/MWaaMWZacXGno28oiqIcVSYNyQ8cN7e2s25vDdX1zT2Yo56hUz0oY8wRx8eHo54YLrfb/l8pIk9hzSHtE5FSu/dUClTap+8EBjvEy4DddvqckPQ3Er0HRVGU3sba3TWB4+bWdhb+aglF2aksv+UzPZir7qezXny1IlJj/zWKSJuI1MSRyRKRHP8xMB/4GPgn4PfEuwx42j7+J3Cp7c03AzhsDwW+BMwXkQLbOWK+naYoinJM89amqsDxix/vBaCqTntQCRG6YFdEzsfqDcWiBHhKRPzXf9QY86KILAOeEJErgO3Ahfb5zwNnA5uAeuBr9rUPisjtwDL7vJ8YYw525n4URVF6G48v3xH/pOOULl2ebIz5h4jcGOecLcDECOkHsNzUQ9MNcHWU33oQeDC53CqKovQ+2tsjTqX3STploETkAsdHDzCNKI4KiqIoSnz6stdeKJ3tQTk99lqxIkmc18nfVBRF6bM0taiB8tPZOaivdVVGFEVRFGhqbYv6nTEGe/6+T5Dsdht3E2Mozxjz7aRzpCiK0ofxB4e984IJ3Pj31UHf1Te3kZUWXm2X3/gcF580mDsuOLFb8thdJOtmvhxYgRXBfAqw0f6bBEQ3/4qiKEpM/AYqI9Ub9t3r6yvD0jbuqwVg0fvRvf3e3XyA6x9fecw5YCRloIwxDxtjHsYK4HqGMeZuY8zdWF54ycbiUxRF6fP4h/jSfV4+vDV4Ye41j34Y9Hn93lr++dFuADwxRv6uefQDnvpwF8+u3tO1mT3KdDbU0UDAuRYq205TFEVRkqDRdpJIS/FQkJUa89wFv3qTu1/bBMDA/IyI5+w4WM+BI9Yi328v+jDiOU7a2w0/+NsqnugF6686a6DuBD4UkYdE5CHgA+B/Op0rRVGUY5jWtnbqmtzEzQ7niC3nn2t64brTee+msCWiYXiiOE+c/tPXgz5/65EVMYf6Xvh4L48v38F//G0VLT3s8t4pA2WM+RPWfkxP2X+n2EN/3YaILBSR9faGhjEXCSuKonSGw/Ut3PT3VYF5n2iMvvVFxv/4Jebc9Trn3vMWrQlU9PXNtoGyt3k/oTSXAXnpnD9pIEMKM6PKRQom29Ac7hLw/Oq9vLYufC7Lz4pPO7b6WLen1pF+kGXbujdYT1IGSkTG2P+nYA3p7bD/Bjp3vD3aiIgX+C1WVPSxwMUiMvZoXtMYE7SZWCJyyV7veGHjvlq+/If3eHrlrm6frDXGcLihpVuvmQzJlq/uJpk8rtl9mIfe3totrfLWtnZ+/vJ6nl21u8t+c/m2g9z+3FoWvb+Di/+wNGoZrqxppM3+btuBelbtPMzm/UcinhuJ3dWNABRk+YLSU1M8QXtDhRq9msZWNoQYzm0HrOuOGZDDyh91zGftPFQf8dqbKmt58O2tgc+vrtsHwKqd1Xzh3ne58L53Xd9HV5DsOqgbsPZX+nmE7wwwN+kcJcZJwCY7fBIi8hjWQuG1ifxIdX0zH+08zN7DDQwrzmZ6eSHLtx2koaWNcQPz8HqE5dsOsv1gPU8s30ltYwtThhRQmpfOKcP7UV3fwoSyPIYXZ/Pmhv34vB4mDs7j4JFm1uyuYVNlHX9591P6ZacyekAOo0pyGD0gh/01Tcw9oT/5GT7+9UklhVmpTB6Sz5b9R9iyv47Vuw6z6P3tDCvOpqIoi5H9s5lQlse+mkbOGl9KS1s7Kz49xIC8dEaX5LB612F2VzfwDrSHDQAAFOZJREFUyNLtLNlYxYJxJQwrzmZoYSYG2Fp1hKtmDWPL/iN8uP0QC8cPoKwgk2dX7eatjVW8vn4/dU0tzDuhhCGFmZxUUUi6z4vPK0wdWsgne2poaGmjvF8WqSkenlu1m/e2HORfa/eRk57CeZMHMXVIAbNGFZOaEtz2+cwvFrOxsg6AdzYf4LrHVgIwtjSXtXtqqCjKYmJZHtsO1HPhtDK+cvJQmlvb8XoEr0d4fV0lmyrreGdzFat31XDVrAra2mFIYSafGVsCWC/wvppG/vDmFgC+OWc4myrreGnNPp5fvYe9NY0UZacydmAeYwbkMLY0l2HFWYwbmMeeww2s+PQQg/IzmFZeyI6D9bS1G+5+bROvrdvH5yYOpCAzlXSfl4H56TS1tnPB5EEs2VTFvsONTK8oZHhxNoeONPPRzmp+/vIGtlUd4QtTy/B5hVElOeyubmRIvww+P7mM97YcoKahhZMqCvF4hFU7DvPWpiruW7yZ3PQUFowbQP/cNE4dUURtYytjS3MpK8jgz+9+Sl1TKxdNH8zemkZeWrOPlTuqeXPDfiqKspg9qpiB+emcVNGPtvZ2xg3MIy3Fw7YD9XhFKMjy8Y8Pd1Hf3MaR5jYeXfophVmppKV4GdE/mxNKczjS1MalpwwlKy2FPYctneWk+3hzw36Wbj3Ay2v2sbGyjjmjiynvl8W4gVYLP8PnZerQAmqbWmlvN6T7vKT7vFTWNPLimr385Jm1tLYbbntmLcOKs5h3QglF2akUZKbyxall7K9rwufxkJOeQnNbOy+v2cfiDft59ZN9lOSmM628gAG5Gcwc0Y8Ddc2UFWQwflAeSzbuZ2hhFmUFGdQ1t7Jhby1ffmBpoDL/aEc1p48s5sSyPB5Zup0F40ooyk7jaw8tY/uBeu668ETmjrHK0I6D9Ty7ak/g/sFqWC3esJ//eu6TQHmuqmti3i8X8+Q3ZobNE1396AdhdcyCX73Jtjs/66o+WrmjmrwMHyU56UHpPq+HvTWNvLG+kjmj+3PwSHiPaf4vg6+zxo6K/uuLJpOfmcrWO85m9K0v8sBbW7ntmbXc99UpLBxfGjh/4z7rHb3itAre2XyA+xZv5tq5Izn3no6N0j/edZgH397K1WeMYHhxtqt7ShY5Flpr0RCRLwILjTH/bn++BDjZGHNNNJlp06aZ5cuXB6W9uWE/lz74ftTrpPs8gYnLVK+H3AwfhxuaaTcEWkqR8Hok8H26z0Neho99NU0x7ym0lZSZ6iXD56WuqTXgfhqJnLQUakPGvFNTPLS0teN8xCkeodWR59DrDS7MoLKmKea1Iubb6wmEaMlJT6EkN50Ty/L43vzRnHvPW4FIzM7z/PTPSaOyNrZe3FCSmxZTv2UFGYFnsru6gWiPzucVWtqCv3Q+y2hkpnqpjzCkEou0FA+pKR5qGzueXW56Cmk+LwePNMe9phsi6dxJ/5w0CrNS2by/LnDfoeWkNC+dPYcbg+QyfF4aWqLfb2qKh5MrClmy0YrMXZiVypdPGsKi97fj9UjMZ56dlhI0h+MRwp6XCAwuyGT7Qas3kJnqpbXdJL0DrQiBd2VE/2wmDMqjqq4pkH8/Xzu1nD+9vS3w+YTSXB7995O5f8kWzhjdny/93uplrP+vhaR4PAy/+XkA/nT5dM4YY+3D+rOX1vPkBzt57KoZDO2XFfitlrZ2Rv7wBUaVZPPy9bODrnvLP1bz1/e2A/DRj+az41A959z9VsR7Wf9fC0lL8fKzl9Zz7+LNrLt9IT6v1Wg869dL+GRPx6YTToP26NLt3PzUat6+cS6PL9vBb17dSHm/TLYdCO9x/euGWYzonxOWbulSVhhjpkX8MgE6G4vvQuBFY0ytiNyCtSbqdmNMfFeRrsHVpoXxdtSdODif//+NU2hobuP6x1cGPF7mjC7mvS0HGFyQyfSKQuaMKua0kUVkpqYEhozW7K5h3d5afvriukClPndMfxZv2M+4gbnMHlXMyRX9mDGskBSvB2MM1fUtrN9Xy+vrKvm93doHmDm8H0u3HmTq0ALOObGUcQPzmF5eEFg5vqmyjh2H6vnbip08t6rDXXRk/2x2HmpgypB8Pj+ljEll+UwoywMsj5yVO6sR4P2tB7njhXUAzB5VzNo9NQgwvaKQz08axKkjishI9WKMoaGljRWfHmJr1RHueml9oAKdXl7A2t01lOSlM2dUf6aVFzB3TH+rpVzbyJpdNTzz0W5eWrOXTZV1/P2DXQCcMbqY284dFxhDv+OFdcwc3o85o60X1hhDu4G6plYuvO8dNtgtObAq8XMnDmTh+AEAnDqiiJ2H6inITGXxhv2s31fL+r21vLF+PwDfmTeS7LQUfv3qRqYNLeDKWcM4uaIfXocf7uH6FjZX1XHbP9ewaudhAMYNzGXnoQYaWtpISxG+OmMoX5hSxtiBubS1m8Az31fTxO/e2MSz9jPw96QEa++ecycN5BuzhzOiOJu65lbSU7ys3FFNilf40dMf8/Euq3IYPyiXDXvryElL4dThRZw3aSDzxpYEKhJ/z76yppH/fv4TquutIcqLpg9mycYqpg4t4NQR/RgzIJcTy/JoN1YFt/NQPZ/ssVr9f1uxM2Cc/BXN4MIMLjulnLICq/fp10tjSxu7qht4e1MVP3p6TUBX2WkpVNY2MWNYIZfPLOfkin6BXkNbuwmMNjywZGvQNhHNre0s2VjFoPwMbj9/HDOG9SMzNYXvLRgNWENhdU2t3Pj31by/1ZrbKM1LZ19NI8YYZg7vxxenlnH2hFLSfV7qm1tpaze8tq4Sr0f424qdgWc+ZUg+K3dUk5+ZypihOVw5axhzRhWz81ADL368l7wMHzsO1bPzUANPfWiVye9+ZhSjB+RwzaIPaW7taMidXFHIrmrrvDTHSMCokmyGFGbyg4VjuHbuSC7541LW7K7hkz01TL79FQDufWMzAH//1kzSUqx1TH+6fDpfe2gZv3tjU8BAPfTONuqaWpl91xusu30hTa3t5GX4eMHeWsNZ/v04Gyvn/vYtfnLeeAC+v2A0M4f34/O/eyfw/T8+3MUFU8q45/VNDCnMDJQpgG/MHhYYwXDe329f38Rd9k6+JTlpDLXfVb9xuvviyVxrewH2y0qloujo9p6gkz0oEVlljDlRRE4D7gB+BtxsjDm5qzIY5/qnALcZYxbYn28CMMbcEU0mUg8qlJ2H6slKTaEgK5XGljbSUjxxw4sYY9hSdYSBeRlkpHppbGkj3Re+0C6UtnbD5v11DC/OxusR13INzW1sO3CEE0qtyrOlrd2VXHV9M81t7fTPSaelrR0BUrzxpyK3VR3Bl+JhUH4G9c2tpKV4gyr8UIwx/PKVDfxtxU6+espQvjVnRNxrOGU/2F7NiP7Z5GX44gvYfLD9EHWNrZw+sggRcR0WprGlje0H6xlVkkNdUyvNre0UxnHvBasCbm5rJzstJTAn4+Z6tY0t+Lwe0n1eGpqt8uWJtYgFa75h24EjlBVkunrOfg7UNfHB9mpmjSoiLcVLS1t7UGUVK4/r9tYybWgB9c1t1DS2UJoX2Y3ZSU1jC0eaWinNy2B/bRN1Ta1UFGXFlXtncxXZaSmcWJbPnsMNgWHHeGzcV0txThr5manUNbWSHSHKQij1za2BIUJ/Oamqa6bdGEpyrWG1lrZ2jjS1kp8ZvRw0tbbR2NzO/zz/SdCWGLNGFfPQ5dODnumIm5+ntd3wiy9NZOLgfM78+eKw39v032fx2LId3PKPjwHChgSvf3xlwLgC/PqiSVz32Epe/e5shhdnc+qdr7GrugGAn5w3DgFufXoNQwozefM/zgjIGWPYeaiBZ1ft4X9ftBqs184dEXBX91+7vrmVsT+ytthbevOZlOSm8/Guw9Q2tjJpcH7EhcR+ekUPio6oEZ8F7jXGPC0it3XyNxNhGTBSRCqAXcBFwJc7+6NlBR2eMm4rAxEJGo91K+f1WPMTicplpHo5oTQ38Btejzs55wvnpqLyU+6oZDJT4xcbEeGG+aO5Yf5o19dwyk4dWpCw3JQhwTJuY5al+7yBZ5CdlgJp7q6Xag/PJXItgJz0DqMb6yV3kuL1RB1OiUW/7LTAHB24f+Y56T6mlxcClrtzpPA6kchN95Fr319xThrFOe6UOXN4UeDYjSH0M9Lx7rgxTmCV38zCjnNFJCyfPq8npnECSEvxkpbi5XsLRvP48h2MLsnh8f83I6Kcf7j0hic+clyXoOH3NbtraLcT7rxgQthvhDo2HLJHegrs6zmHW6tqmwJl81cXBcdOEBEGF2bSz9EI8xun0SU5XDdvJGDp6bXvzmbN7pqA4R4/KC+qPo4GnV0HtUtEfg98CXheRNK64DddY4xpBa7B2kn3E+AJY8ya2FKKoihdR3FOGk9+cyaLropsnACe/ObMsLS1/7kw6PPNT63mQF0zIvCFqWVh54fOrR2qb0GEwCjDzy/s2Gbvwx3V7KtpIj/TF9Zw8zPP0XDx89L1szh7QofTxLDibD43sediL3S2B/UlYCHwM2NMtYiUAt/vfLbcY4x5HmvXXUVRlB4hXo9/6tACtt35WfbXNlGUnYox4PEIi78/h588s5ZX11WyZncNa3bX0C8rNWJP1zkZk+Hzcqi+mdx0X2Co3T/vDLBkYxVLNlYxZkD0XndhViorbpnH6l2HufxPyzixrHt7R27o7ELdeqASOM1OasUKGqsoiqKEUJyThogE5qeG9svij5dPZ4Jj6OxABPdxsFzFL5xaxsUnDaahpY2Pdx2mILNjuLgoO41td36WL03r6H3F8rIEawh4zuj+vH/zmSy6ckZnbu2o0CkDJSI/Bn4A3GQn+YC/djZTiqIofQmnw5F/bjmUiqIs7rpwIuMGWsbsg+3VEd2/1+3tWKx70fRwr+VI9M9Ndz3P2J10dr7o88C5wBEAY8xugoPHKoqiKHGosaOc3HrOWBZdGdsJOjeOZ+vvvjIFEcvh4apZw7osjz1BZ01mszHGiIgBEJH4/qSKoihKRM4aPyCu92BDc8cC5rsvnhz2fVlBJlvvcBe1orfTWQP1hO3Fly8iVwJfBx7ofLYURVH6Dr/76hSWbjkYdcsMJ9Ns93+wFvcfz3TKQBljfiYinwFqgNHAj4wxr3RJzhRFUfoIYwbkMmZA5LmnUJzrLbPTe9+8UVfS6buzDdIrYEUXF5GvGGMe6XTOFEVRlJi4ibZxLJPsdhu5InKTiNwjIvPF4hpgC9baKEVRFEXpFMn2oP4CHALeBf4da3FuKnCeMWZlF+VNURRF6cMka6CGGWMmAIjIA0AVMMQYE3ubSUVRFKXTPHvtaezvgi1qejvJGqjA1qTGmDYR2arGSVEUpXvo7qCtPUVS222ISBv24lysPZkygHr72Bhj3Lmj9AAiUgus7+l89DKKsHrBSgeqk3BUJ+GoTsIpArKMMcWd/aGkelDGmGPZdWR9V+xTcjwhIstVJ8GoTsJRnYSjOgnH1kl5V/xWt22NoSiKoiiJoAZKURRF6ZX0RQN1f09noBeiOglHdRKO6iQc1Uk4XaaTpJwkFEVRFOVo0xd7UIqiKMoxgBooRVEUpVfSZwyUiCwUkfUisklEbuzp/HQnIrJNRFaLyEoRWW6nFYrIKyKy0f5fYKeLiPzG1tMqEZnSs7nvGkTkQRGpFJGPHWkJ60BELrPP3ygil/XEvXQVUXRym4jsssvKShE52/HdTbZO1ovIAkf6cfNuichgEXldRD4RkTUicp2d3mfLSgydHP2yYow57v8AL7AZGIYVM/AjYGxP56sb738bUBSS9lPgRvv4RuB/7eOzgRewFl3PAJb2dP67SAezgCnAx8nqACjECohcCBTYxwU9fW9drJPbgO9FOHes/d6kARX2++Q93t4toBSYYh/nABvse++zZSWGTo56WekrPaiTgE3GmC3GmGbgMeC8Hs5TT3Me8LB9/DBwviP9z8biPazNKEt7IoNdiTHmTeBgSHKiOlgAvGKMOWiMOYS1zczCo5/7o0MUnUTjPOAxY0yTMWYrsAnrvTqu3i1jzB5jzAf2cS3wCTCIPlxWYugkGl1WVvqKgRoE7HB83klsBR9vGOBlEVkhIlfZaSXGmD1gFUCgv53el3SVqA76im6usYerHvQPZdEHdSIi5cBkYClaVoAwncBRLit9xUBJhLS+5F9/qjFmCnAWcLWIzIpxbl/XFUTXQV/Qzb3AcGASsAf4uZ3ep3QiItnAk8B3jDE1sU6NkHZc6iWCTo56WekrBmonMNjxuQzY3UN56XaMMbvt/5XAU1hd7X3+oTv7f6V9el/SVaI6OO51Y4zZZ4xpM8a0A3/AKivQh3QiIj6sivgRY8zf7eQ+XVYi6aQ7ykpfMVDLgJEiUiEiqcBFwD97OE/dgohkiUiO/xiYD3yMdf9+z6LLgKft438Cl9reSTOAw/6hjeOQRHXwEjBfRArs4Yz5dtpxQ8h84+exygpYOrlIRNJEpAIYCbzPcfZuiYgAfwQ+Mcb8wvFVny0r0XTSLWWlpz1EuusPy9tmA5YXyQ97Oj/deN/DsLxlPgLW+O8d6Ae8Cmy0/xfa6QL81tbTamBaT99DF+lhEdYwRAtWS+6KZHQAfB1r0ncT8LWevq+joJO/2Pe8yq48Sh3n/9DWyXrgLEf6cfNuAadhDTutAlbaf2f35bISQydHvaxoqCNFURSlV9JXhvgURVGUYww1UIqiKEqvRA2UoiiK0itRA6UoiqL0StRAKYqiKL2SlJ7OgKL0JUTE764MMABoA/bbn+uNMTN7JGOK0gtRN3NF6SFE5Dagzhjzs57Oi6L0RnSIT1F6CSJSZ/+fIyKLReQJEdkgIneKyFdE5H2x9vUabp9XLCJPisgy++/Unr0DRela1EApSu9kInAdMAG4BBhljDkJeAC41j7n18AvjTHTgS/Y3ynKcYPOQSlK72SZsWMgishm4GU7fTVwhn08DxhrhUoDIFdEcoy1Z4+iHPOogVKU3kmT47jd8bmdjvfWA5xijGnozowpSnehQ3yKcuzyMnCN/4OITOrBvChKl6MGSlGOXb4NTLN3NF0LfKOnM6QoXYm6mSuKoii9Eu1BKYqiKL0SNVCKoihKr0QNlKIoitIrUQOlKIqi9ErUQCmKoii9EjVQiqIoSq9EDZSiKIrSK/k/3eS6Zb2SA1IAAAAASUVORK5CYII=\n",
      "text/plain": [
       "<Figure size 432x288 with 4 Axes>"
      ]
     },
     "metadata": {
      "needs_background": "light"
     },
     "output_type": "display_data"
    }
   ],
   "source": [
    "s = sm.tsa.seasonal_decompose(working_data.Weighted_Price.values, model = 'additive', freq=100)\n",
    "\n",
    "s.plot()\n"
   ]
  },
  {
   "cell_type": "code",
   "execution_count": 25,
   "metadata": {},
   "outputs": [],
   "source": [
    "def create_lookback(dataset, look_back=1):\n",
    "    dataset = np.reshape(dataset, (len(dataset), 1))\n",
    "    #print(len(dataset))\n",
    "    X, Y = [], [] \n",
    "    for i in range(len(dataset) - look_back):\n",
    "        a = dataset[i:(i + look_back), 0]\n",
    "        X.append(a)\n",
    "        Y.append(dataset[i + look_back, 0])\n",
    "    return np.array(X), np.array(Y)"
   ]
  },
  {
   "cell_type": "code",
   "execution_count": 27,
   "metadata": {},
   "outputs": [
    {
     "name": "stdout",
     "output_type": "stream",
     "text": [
      "<class 'numpy.ndarray'>\n",
      "<class 'numpy.ndarray'>\n"
     ]
    },
    {
     "ename": "TypeError",
     "evalue": "object of type 'MinMaxScaler' has no len()",
     "output_type": "error",
     "traceback": [
      "\u001b[1;31m---------------------------------------------------------------------------\u001b[0m",
      "\u001b[1;31mTypeError\u001b[0m                                 Traceback (most recent call last)",
      "\u001b[1;32m<ipython-input-27-1dfa1daf04ac>\u001b[0m in \u001b[0;36m<module>\u001b[1;34m\u001b[0m\n\u001b[0;32m     13\u001b[0m \u001b[0mlook_back\u001b[0m \u001b[1;33m=\u001b[0m \u001b[1;36m1\u001b[0m\u001b[1;33m\u001b[0m\u001b[1;33m\u001b[0m\u001b[0m\n\u001b[0;32m     14\u001b[0m \u001b[0mX_train\u001b[0m\u001b[1;33m,\u001b[0m \u001b[0mY_train\u001b[0m \u001b[1;33m=\u001b[0m \u001b[0mcreate_lookback\u001b[0m\u001b[1;33m(\u001b[0m\u001b[0mtraining_set\u001b[0m\u001b[1;33m,\u001b[0m \u001b[0mlook_back\u001b[0m\u001b[1;33m)\u001b[0m\u001b[1;33m\u001b[0m\u001b[1;33m\u001b[0m\u001b[0m\n\u001b[1;32m---> 15\u001b[1;33m \u001b[0mX_test\u001b[0m\u001b[1;33m,\u001b[0m \u001b[0mY_test\u001b[0m \u001b[1;33m=\u001b[0m \u001b[0mcreate_lookback\u001b[0m\u001b[1;33m(\u001b[0m\u001b[0mtest_set\u001b[0m\u001b[1;33m,\u001b[0m \u001b[0mlook_back\u001b[0m\u001b[1;33m)\u001b[0m\u001b[1;33m\u001b[0m\u001b[1;33m\u001b[0m\u001b[0m\n\u001b[0m\u001b[0;32m     16\u001b[0m \u001b[1;33m\u001b[0m\u001b[0m\n",
      "\u001b[1;32m<ipython-input-25-ea68d6673b55>\u001b[0m in \u001b[0;36mcreate_lookback\u001b[1;34m(dataset, look_back)\u001b[0m\n\u001b[0;32m      1\u001b[0m \u001b[1;32mdef\u001b[0m \u001b[0mcreate_lookback\u001b[0m\u001b[1;33m(\u001b[0m\u001b[0mdataset\u001b[0m\u001b[1;33m,\u001b[0m \u001b[0mlook_back\u001b[0m\u001b[1;33m=\u001b[0m\u001b[1;36m1\u001b[0m\u001b[1;33m)\u001b[0m\u001b[1;33m:\u001b[0m\u001b[1;33m\u001b[0m\u001b[1;33m\u001b[0m\u001b[0m\n\u001b[1;32m----> 2\u001b[1;33m     \u001b[0mdataset\u001b[0m \u001b[1;33m=\u001b[0m \u001b[0mnp\u001b[0m\u001b[1;33m.\u001b[0m\u001b[0mreshape\u001b[0m\u001b[1;33m(\u001b[0m\u001b[0mdataset\u001b[0m\u001b[1;33m,\u001b[0m \u001b[1;33m(\u001b[0m\u001b[0mlen\u001b[0m\u001b[1;33m(\u001b[0m\u001b[0mdataset\u001b[0m\u001b[1;33m)\u001b[0m\u001b[1;33m,\u001b[0m \u001b[1;36m1\u001b[0m\u001b[1;33m)\u001b[0m\u001b[1;33m)\u001b[0m\u001b[1;33m\u001b[0m\u001b[1;33m\u001b[0m\u001b[0m\n\u001b[0m\u001b[0;32m      3\u001b[0m     \u001b[1;31m#print(len(dataset))\u001b[0m\u001b[1;33m\u001b[0m\u001b[1;33m\u001b[0m\u001b[1;33m\u001b[0m\u001b[0m\n\u001b[0;32m      4\u001b[0m     \u001b[0mX\u001b[0m\u001b[1;33m,\u001b[0m \u001b[0mY\u001b[0m \u001b[1;33m=\u001b[0m \u001b[1;33m[\u001b[0m\u001b[1;33m]\u001b[0m\u001b[1;33m,\u001b[0m \u001b[1;33m[\u001b[0m\u001b[1;33m]\u001b[0m\u001b[1;33m\u001b[0m\u001b[1;33m\u001b[0m\u001b[0m\n\u001b[0;32m      5\u001b[0m     \u001b[1;32mfor\u001b[0m \u001b[0mi\u001b[0m \u001b[1;32min\u001b[0m \u001b[0mrange\u001b[0m\u001b[1;33m(\u001b[0m\u001b[0mlen\u001b[0m\u001b[1;33m(\u001b[0m\u001b[0mdataset\u001b[0m\u001b[1;33m)\u001b[0m \u001b[1;33m-\u001b[0m \u001b[0mlook_back\u001b[0m\u001b[1;33m)\u001b[0m\u001b[1;33m:\u001b[0m\u001b[1;33m\u001b[0m\u001b[1;33m\u001b[0m\u001b[0m\n",
      "\u001b[1;31mTypeError\u001b[0m: object of type 'MinMaxScaler' has no len()"
     ]
    }
   ],
   "source": [
    "from sklearn.preprocessing import MinMaxScaler\n",
    "training_set = data_train.values\n",
    "training_set = np.reshape(training_set, (len(training_set), 1))\n",
    "test_set = data_test.values\n",
    "test_set = np.reshape(test_set, (len(test_set), 1))\n",
    "print(type(training_set))\n",
    "print(type(test_set))\n",
    "\n",
    "\n",
    "scalar = MinMaxScaler()\n",
    "training_set = scalar.fit_transform(training_set)\n",
    "test_set = scalar.fit(test_set)\n",
    "look_back = 1\n",
    "X_train, Y_train = create_lookback(training_set, look_back)\n",
    "X_test, Y_test = create_lookback(test_set, look_back)\n",
    "\n"
   ]
  },
  {
   "cell_type": "code",
   "execution_count": null,
   "metadata": {},
   "outputs": [],
   "source": []
  }
 ],
 "metadata": {
  "kernelspec": {
   "display_name": "Python 3",
   "language": "python",
   "name": "python3"
  },
  "language_info": {
   "codemirror_mode": {
    "name": "ipython",
    "version": 3
   },
   "file_extension": ".py",
   "mimetype": "text/x-python",
   "name": "python",
   "nbconvert_exporter": "python",
   "pygments_lexer": "ipython3",
   "version": "3.6.7"
  }
 },
 "nbformat": 4,
 "nbformat_minor": 2
}
